{
 "cells": [
  {
   "cell_type": "code",
   "execution_count": 1,
   "metadata": {
    "id": "JAGHc0VAGbCX"
   },
   "outputs": [],
   "source": [
    "#!pip install bertopic\n",
    "#since this notebook was first made in Google Colab this line was necessary due\n",
    "#to a issue with plotly\n",
    "\n",
    "#the issue was found when trying to change hovering information, it raised\n",
    "#\"RuntimeError: dictionary changed size during iteration\""
   ]
  },
  {
   "cell_type": "code",
   "execution_count": 2,
   "metadata": {
    "colab": {
     "base_uri": "https://localhost:8080/"
    },
    "id": "xrOJy3U1q7gz",
    "outputId": "c75cbc11-3061-4a89-81e4-29c9b2acaa4c"
   },
   "outputs": [],
   "source": [
    "import pandas as pd\n",
    "import numpy as np\n",
    "import matplotlib.pyplot as plt\n",
    "import plotly.express as px\n",
    "import plotly.graph_objects as go"
   ]
  },
  {
   "cell_type": "code",
   "execution_count": 5,
   "metadata": {
    "id": "51Ohgsv6rDFw"
   },
   "outputs": [],
   "source": [
    "series_df = pd.read_csv('series_archive.csv')\n",
    "total_seasons = series_df['Season'].nunique()"
   ]
  },
  {
   "cell_type": "code",
   "execution_count": 7,
   "metadata": {
    "colab": {
     "base_uri": "https://localhost:8080/",
     "height": 542
    },
    "id": "GtyS0WJOBhRe",
    "outputId": "520eeabc-4747-4990-d1fd-e144394ed633"
   },
   "outputs": [],
   "source": [
    "fig = px.scatter(\n",
    "  series_df,\n",
    "  x='Number',\n",
    "  y='Score',\n",
    "  facet_col='Season',\n",
    "  #with a large number of seasons the subplots were too thin\n",
    "  facet_col_spacing = 0.005,\n",
    "  #aplying total number of seasons in facet_col_wrap, facet_col_spacing works as intend\n",
    "  facet_col_wrap = total_seasons,\n",
    "  color='Season', \n",
    "  color_continuous_scale=px.colors.sequential.Bluered,\n",
    "  title = 'Supernatural episodes ratings by IMDb',\n",
    "  hover_name = 'Episode name',\n",
    "  hover_data = {\n",
    "       'Score':True,\n",
    "       'Episode name':False,\n",
    "       'Season':False,\n",
    "       'Number':False,\n",
    "       'Release date': True,\n",
    "       #a clever way i found to join to column values in one hover key without having to change from plotly express to plotly go\n",
    "       'Episode': ['S{:02} EP{:02}'.format(season, number) for season, number in zip(series_df['Season'], series_df['Number'])]\n",
    "  }\n",
    ")\n",
    "\n",
    "fig.update_xaxes(matches=None, showticklabels=False, showgrid=False, zeroline = False)\n",
    "fig.update_yaxes(tick0 = 6.5, dtick=1.5)\n",
    "fig.for_each_annotation(lambda a: a.update(text=a.text.replace('=', ' ')))\n",
    "fig.update_layout(\n",
    "  title = {'x': 0.5, 'y':0.9, 'xanchor': 'center', 'yanchor': 'top'},\n",
    "  yaxis_title = 'Ratings'\n",
    ")\n",
    "#hide the color legend\n",
    "fig.update(layout_coloraxis_showscale=False)\n",
    "\n",
    "#hide the xaxis label in each facet\n",
    "for axis in fig.layout:\n",
    "    if type(fig.layout[axis]) == go.layout.XAxis:\n",
    "        fig.layout[axis].title.text = ''"
   ]
  },
  {
   "cell_type": "code",
   "execution_count": null,
   "metadata": {},
   "outputs": [],
   "source": [
    "fig.show"
   ]
  }
 ],
 "metadata": {
  "colab": {
   "collapsed_sections": [],
   "name": "seriesrating_visuals.ipynb",
   "provenance": []
  },
  "kernelspec": {
   "display_name": "Python 3",
   "language": "python",
   "name": "python3"
  },
  "language_info": {
   "codemirror_mode": {
    "name": "ipython",
    "version": 3
   },
   "file_extension": ".py",
   "mimetype": "text/x-python",
   "name": "python",
   "nbconvert_exporter": "python",
   "pygments_lexer": "ipython3",
   "version": "3.8.8"
  }
 },
 "nbformat": 4,
 "nbformat_minor": 1
}
