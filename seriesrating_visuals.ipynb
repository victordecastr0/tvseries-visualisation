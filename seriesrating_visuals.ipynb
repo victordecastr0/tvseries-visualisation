{
 "cells": [
  {
   "cell_type": "code",
   "execution_count": 1,
   "metadata": {
    "id": "JAGHc0VAGbCX"
   },
   "outputs": [],
   "source": [
    "#!pip install bertopic\n",
    "#since this notebook was first made in Google Colab this line was necessary due\n",
    "#to a issue with plotly\n",
    "\n",
    "#the issue was found when trying to change hovering information, it raised\n",
    "#\"RuntimeError: dictionary changed size during iteration\""
   ]
  },
  {
   "cell_type": "code",
   "execution_count": 2,
   "metadata": {
    "colab": {
     "base_uri": "https://localhost:8080/"
    },
    "id": "xrOJy3U1q7gz",
    "outputId": "c75cbc11-3061-4a89-81e4-29c9b2acaa4c"
   },
   "outputs": [],
   "source": [
    "import pandas as pd\n",
    "import numpy as np\n",
    "import matplotlib.pyplot as plt\n",
    "import plotly.express as px\n",
    "import plotly.graph_objects as go"
   ]
  },
  {
   "cell_type": "code",
   "execution_count": 5,
   "metadata": {
    "id": "51Ohgsv6rDFw"
   },
   "outputs": [],
   "source": [
    "series_df = pd.read_csv('series_archive.csv')\n",
    "total_seasons = series_df['Season'].nunique()"
   ]
  },
  {
   "cell_type": "code",
   "execution_count": 7,
   "metadata": {
    "colab": {
     "base_uri": "https://localhost:8080/",
     "height": 542
    },
    "id": "GtyS0WJOBhRe",
    "outputId": "520eeabc-4747-4990-d1fd-e144394ed633"
   },
   "outputs": [],
   "source": [
    "fig = px.scatter(\n",
    "  series_df,\n",
    "  x='Number',\n",
    "  y='Score',\n",
    "  facet_col='Season',\n",
    "  #with a large number of seasons the subplots were too thin\n",
    "  facet_col_spacing = 0.005,\n",
    "  #aplying total number of seasons in facet_col_wrap, facet_col_spacing works as intend\n",
    "  facet_col_wrap = total_seasons,\n",
    "  color='Season', \n",
    "  color_continuous_scale=px.colors.sequential.Bluered,\n",
    "  title = 'Supernatural episodes ratings by IMDb',\n",
    "  hover_name = 'Episode name',\n",
    "  hover_data = {\n",
    "       'Score':True,\n",
    "       'Episode name':False,\n",
    "       'Season':False,\n",
    "       'Number':False,\n",
    "       'Release date': True,\n",
    "       #a clever way i found to join to column values in one hover key without having to change from plotly express to plotly go\n",
    "       'Episode': ['S{:02} EP{:02}'.format(season, number) for season, number in zip(series_df['Season'], series_df['Number'])]\n",
    "  }\n",
    ")\n",
    "\n",
    "fig.update_xaxes(matches=None, showticklabels=False, showgrid=False, zeroline = False)\n",
    "fig.update_yaxes(tick0 = 6.5, dtick=1.5)\n",
    "fig.for_each_annotation(lambda a: a.update(text=a.text.replace('=', ' ')))\n",
    "fig.update_layout(\n",
    "  title = {'x': 0.5, 'y':0.9, 'xanchor': 'center', 'yanchor': 'top'},\n",
    "  yaxis_title = 'Ratings'\n",
    ")\n",
    "#hide the color legend\n",
    "fig.update(layout_coloraxis_showscale=False)\n",
    "\n",
    "#hide the xaxis label in each facet\n",
    "for axis in fig.layout:\n",
    "    if type(fig.layout[axis]) == go.layout.XAxis:\n",
    "        fig.layout[axis].title.text = ''"
   ]
  },
  {
   "cell_type": "code",
   "execution_count": 8,
   "metadata": {},
   "outputs": [
    {
     "data": {
      "application/vnd.plotly.v1+json": {
       "config": {
        "plotlyServerURL": "https://plot.ly"
       },
       "data": [
        {
         "customdata": [
          [
           "Pilot",
           1,
           "8 Nov. 2005",
           "S01 EP01"
          ],
          [
           "Wendigo",
           1,
           "20 Sep. 2005",
           "S01 EP02"
          ],
          [
           "Dead in the Water",
           1,
           "27 Sep. 2005",
           "S01 EP03"
          ],
          [
           "Phantom Traveler",
           1,
           "4 Oct. 2005",
           "S01 EP04"
          ],
          [
           "Bloody Mary",
           1,
           "11 Oct. 2005",
           "S01 EP05"
          ],
          [
           "Skin",
           1,
           "18 Oct. 2005",
           "S01 EP06"
          ],
          [
           "Hook Man",
           1,
           "25 Oct. 2005",
           "S01 EP07"
          ],
          [
           "Bugs",
           1,
           "8 Nov. 2005",
           "S01 EP08"
          ],
          [
           "Home",
           1,
           "15 Nov. 2005",
           "S01 EP09"
          ],
          [
           "Asylum",
           1,
           "8 Feb. 2006",
           "S01 EP10"
          ],
          [
           "Scarecrow",
           1,
           "10 Jan. 2006",
           "S01 EP11"
          ],
          [
           "Faith",
           1,
           "17 Jan. 2006",
           "S01 EP12"
          ],
          [
           "Route 666",
           1,
           "31 Jan. 2006",
           "S01 EP13"
          ],
          [
           "Nightmare",
           1,
           "7 Feb. 2006",
           "S01 EP14"
          ],
          [
           "The Benders",
           1,
           "14 Feb. 2006",
           "S01 EP15"
          ],
          [
           "Shadow",
           1,
           "28 Feb. 2006",
           "S01 EP16"
          ],
          [
           "Hell House",
           1,
           "30 Mar. 2006",
           "S01 EP17"
          ],
          [
           "Something Wicked",
           1,
           "6 Apr. 2006",
           "S01 EP18"
          ],
          [
           "Provenance",
           1,
           "13 Apr. 2006",
           "S01 EP19"
          ],
          [
           "Dead Man's Blood",
           1,
           "20 Apr. 2006",
           "S01 EP20"
          ],
          [
           "Salvation",
           1,
           "27 Apr. 2006",
           "S01 EP21"
          ],
          [
           "Devil's Trap",
           1,
           "4 May 2006",
           "S01 EP22"
          ]
         ],
         "hovertemplate": "<b>%{hovertext}</b><br><br>Score=%{y}<br>Release date=%{customdata[2]}<br>Episode=%{customdata[3]}<extra></extra>",
         "hovertext": [
          "Pilot",
          "Wendigo",
          "Dead in the Water",
          "Phantom Traveler",
          "Bloody Mary",
          "Skin",
          "Hook Man",
          "Bugs",
          "Home",
          "Asylum",
          "Scarecrow",
          "Faith",
          "Route 666",
          "Nightmare",
          "The Benders",
          "Shadow",
          "Hell House",
          "Something Wicked",
          "Provenance",
          "Dead Man's Blood",
          "Salvation",
          "Devil's Trap"
         ],
         "legendgroup": "",
         "marker": {
          "color": [
           1,
           1,
           1,
           1,
           1,
           1,
           1,
           1,
           1,
           1,
           1,
           1,
           1,
           1,
           1,
           1,
           1,
           1,
           1,
           1,
           1,
           1
          ],
          "coloraxis": "coloraxis",
          "symbol": "circle"
         },
         "mode": "markers",
         "name": "",
         "orientation": "v",
         "showlegend": false,
         "type": "scatter",
         "x": [
          1,
          2,
          3,
          4,
          5,
          6,
          7,
          8,
          9,
          10,
          11,
          12,
          13,
          14,
          15,
          16,
          17,
          18,
          19,
          20,
          21,
          22
         ],
         "xaxis": "x",
         "y": [
          8.7,
          8,
          8.1,
          8.2,
          8.4,
          8.4,
          8,
          7,
          8.9,
          8.5,
          8.7,
          8.9,
          7.4,
          8.3,
          8.3,
          8.6,
          8.4,
          8.6,
          8.8,
          8.5,
          8.9,
          9.3
         ],
         "yaxis": "y"
        },
        {
         "customdata": [
          [
           "In My Time of Dying",
           2,
           "28 Sep. 2006",
           "S02 EP01"
          ],
          [
           "Everybody Loves a Clown",
           2,
           "5 Oct. 2006",
           "S02 EP02"
          ],
          [
           "Bloodlust",
           2,
           "12 Oct. 2006",
           "S02 EP03"
          ],
          [
           "Children Shouldn't Play with Dead Things",
           2,
           "19 Oct. 2006",
           "S02 EP04"
          ],
          [
           "Simon Said",
           2,
           "26 Oct. 2006",
           "S02 EP05"
          ],
          [
           "No Exit",
           2,
           "2 Nov. 2006",
           "S02 EP06"
          ],
          [
           "The Usual Suspects",
           2,
           "9 Nov. 2006",
           "S02 EP07"
          ],
          [
           "Crossroad Blues",
           2,
           "16 Nov. 2006",
           "S02 EP08"
          ],
          [
           "Croatoan",
           2,
           "7 Dec. 2006",
           "S02 EP09"
          ],
          [
           "Hunted",
           2,
           "11 Jan. 2007",
           "S02 EP10"
          ],
          [
           "Playthings",
           2,
           "18 Jan. 2007",
           "S02 EP11"
          ],
          [
           "Nightshifter",
           2,
           "25 Jan. 2007",
           "S02 EP12"
          ],
          [
           "Houses of the Holy",
           2,
           "1 Feb. 2007",
           "S02 EP13"
          ],
          [
           "Born Under a Bad Sign",
           2,
           "8 Feb. 2007",
           "S02 EP14"
          ],
          [
           "Tall Tales",
           2,
           "15 Feb. 2007",
           "S02 EP15"
          ],
          [
           "Roadkill",
           2,
           "15 Mar. 2007",
           "S02 EP16"
          ],
          [
           "Heart",
           2,
           "22 Mar. 2007",
           "S02 EP17"
          ],
          [
           "Hollywood Babylon",
           2,
           "19 Apr. 2007",
           "S02 EP18"
          ],
          [
           "Folsom Prison Blues",
           2,
           "26 Apr. 2007",
           "S02 EP19"
          ],
          [
           "What Is and What Should Never Be",
           2,
           "3 May 2007",
           "S02 EP20"
          ],
          [
           "All Hell Breaks Loose: Part 1",
           2,
           "10 May 2007",
           "S02 EP21"
          ],
          [
           "All Hell Breaks Loose: Part 2",
           2,
           "17 May 2007",
           "S02 EP22"
          ]
         ],
         "hovertemplate": "<b>%{hovertext}</b><br><br>Score=%{y}<br>Release date=%{customdata[2]}<br>Episode=%{customdata[3]}<extra></extra>",
         "hovertext": [
          "In My Time of Dying",
          "Everybody Loves a Clown",
          "Bloodlust",
          "Children Shouldn't Play with Dead Things",
          "Simon Said",
          "No Exit",
          "The Usual Suspects",
          "Crossroad Blues",
          "Croatoan",
          "Hunted",
          "Playthings",
          "Nightshifter",
          "Houses of the Holy",
          "Born Under a Bad Sign",
          "Tall Tales",
          "Roadkill",
          "Heart",
          "Hollywood Babylon",
          "Folsom Prison Blues",
          "What Is and What Should Never Be",
          "All Hell Breaks Loose: Part 1",
          "All Hell Breaks Loose: Part 2"
         ],
         "legendgroup": "",
         "marker": {
          "color": [
           2,
           2,
           2,
           2,
           2,
           2,
           2,
           2,
           2,
           2,
           2,
           2,
           2,
           2,
           2,
           2,
           2,
           2,
           2,
           2,
           2,
           2
          ],
          "coloraxis": "coloraxis",
          "symbol": "circle"
         },
         "mode": "markers",
         "name": "",
         "orientation": "v",
         "showlegend": false,
         "type": "scatter",
         "x": [
          1,
          2,
          3,
          4,
          5,
          6,
          7,
          8,
          9,
          10,
          11,
          12,
          13,
          14,
          15,
          16,
          17,
          18,
          19,
          20,
          21,
          22
         ],
         "xaxis": "x2",
         "y": [
          9.3,
          8.2,
          8.3,
          8,
          8.6,
          8.4,
          8.7,
          8.8,
          8.8,
          8.5,
          8.4,
          9,
          8.1,
          8.8,
          9.2,
          8.9,
          8.8,
          8.6,
          8.7,
          9.4,
          9.2,
          9.5
         ],
         "yaxis": "y2"
        },
        {
         "customdata": [
          [
           "The Magnificent Seven",
           3,
           "4 Oct. 2007",
           "S03 EP01"
          ],
          [
           "The Kids Are Alright",
           3,
           "11 Oct. 2007",
           "S03 EP02"
          ],
          [
           "Bad Day at Black Rock",
           3,
           "18 Oct. 2007",
           "S03 EP03"
          ],
          [
           "Sin City",
           3,
           "25 Oct. 2007",
           "S03 EP04"
          ],
          [
           "Bedtime Stories",
           3,
           "1 Nov. 2007",
           "S03 EP05"
          ],
          [
           "Red Sky at Morning",
           3,
           "8 Nov. 2007",
           "S03 EP06"
          ],
          [
           "Fresh Blood",
           3,
           "15 Nov. 2007",
           "S03 EP07"
          ],
          [
           "A Very Supernatural Christmas",
           3,
           "13 Dec. 2007",
           "S03 EP08"
          ],
          [
           "Malleus Maleficarum",
           3,
           "31 Jan. 2008",
           "S03 EP09"
          ],
          [
           "Dream a Little Dream of Me",
           3,
           "7 Feb. 2008",
           "S03 EP10"
          ],
          [
           "Mystery Spot",
           3,
           "14 Feb. 2008",
           "S03 EP11"
          ],
          [
           "Jus in Bello",
           3,
           "21 Feb. 2008",
           "S03 EP12"
          ],
          [
           "Ghostfacers",
           3,
           "24 Apr. 2008",
           "S03 EP13"
          ],
          [
           "Long Distance Call",
           3,
           "1 May 2008",
           "S03 EP14"
          ],
          [
           "Time Is on My Side",
           3,
           "8 May 2008",
           "S03 EP15"
          ],
          [
           "No Rest for the Wicked",
           3,
           "15 May 2008",
           "S03 EP16"
          ]
         ],
         "hovertemplate": "<b>%{hovertext}</b><br><br>Score=%{y}<br>Release date=%{customdata[2]}<br>Episode=%{customdata[3]}<extra></extra>",
         "hovertext": [
          "The Magnificent Seven",
          "The Kids Are Alright",
          "Bad Day at Black Rock",
          "Sin City",
          "Bedtime Stories",
          "Red Sky at Morning",
          "Fresh Blood",
          "A Very Supernatural Christmas",
          "Malleus Maleficarum",
          "Dream a Little Dream of Me",
          "Mystery Spot",
          "Jus in Bello",
          "Ghostfacers",
          "Long Distance Call",
          "Time Is on My Side",
          "No Rest for the Wicked"
         ],
         "legendgroup": "",
         "marker": {
          "color": [
           3,
           3,
           3,
           3,
           3,
           3,
           3,
           3,
           3,
           3,
           3,
           3,
           3,
           3,
           3,
           3
          ],
          "coloraxis": "coloraxis",
          "symbol": "circle"
         },
         "mode": "markers",
         "name": "",
         "orientation": "v",
         "showlegend": false,
         "type": "scatter",
         "x": [
          1,
          2,
          3,
          4,
          5,
          6,
          7,
          8,
          9,
          10,
          11,
          12,
          13,
          14,
          15,
          16
         ],
         "xaxis": "x3",
         "y": [
          8.6,
          8.7,
          9.3,
          8.4,
          8.4,
          8.1,
          8.5,
          8.8,
          8.5,
          8.5,
          9.5,
          9.4,
          7.7,
          8,
          8.5,
          9.3
         ],
         "yaxis": "y3"
        },
        {
         "customdata": [
          [
           "Lazarus Rising",
           4,
           "18 Sep. 2008",
           "S04 EP01"
          ],
          [
           "Are You There, God? It's Me, Dean Winchester",
           4,
           "25 Sep. 2008",
           "S04 EP02"
          ],
          [
           "In the Beginning",
           4,
           "2 Oct. 2008",
           "S04 EP03"
          ],
          [
           "Metamorphosis",
           4,
           "9 Oct. 2008",
           "S04 EP04"
          ],
          [
           "Monster Movie",
           4,
           "16 Oct. 2008",
           "S04 EP05"
          ],
          [
           "Yellow Fever",
           4,
           "23 Oct. 2008",
           "S04 EP06"
          ],
          [
           "It's the Great Pumpkin, Sam Winchester",
           4,
           "30 Oct. 2008",
           "S04 EP07"
          ],
          [
           "Wishful Thinking",
           4,
           "6 Nov. 2008",
           "S04 EP08"
          ],
          [
           "I Know What You Did Last Summer",
           4,
           "13 Nov. 2008",
           "S04 EP09"
          ],
          [
           "Heaven and Hell",
           4,
           "20 Nov. 2008",
           "S04 EP10"
          ],
          [
           "Family Remains",
           4,
           "15 Jan. 2009",
           "S04 EP11"
          ],
          [
           "Criss Angel Is a Douche Bag",
           4,
           "22 Jan. 2009",
           "S04 EP12"
          ],
          [
           "After School Special",
           4,
           "29 Jan. 2009",
           "S04 EP13"
          ],
          [
           "Sex and Violence",
           4,
           "5 Feb. 2009",
           "S04 EP14"
          ],
          [
           "Death Takes a Holiday",
           4,
           "12 Mar. 2009",
           "S04 EP15"
          ],
          [
           "On the Head of a Pin",
           4,
           "19 Mar. 2009",
           "S04 EP16"
          ],
          [
           "It's a Terrible Life",
           4,
           "26 Mar. 2009",
           "S04 EP17"
          ],
          [
           "The Monster at the End of This Book",
           4,
           "2 Apr. 2009",
           "S04 EP18"
          ],
          [
           "Jump the Shark",
           4,
           "23 Apr. 2009",
           "S04 EP19"
          ],
          [
           "The Rapture",
           4,
           "30 Apr. 2009",
           "S04 EP20"
          ],
          [
           "When the Levee Breaks",
           4,
           "7 May 2009",
           "S04 EP21"
          ],
          [
           "Lucifer Rising",
           4,
           "14 May 2009",
           "S04 EP22"
          ]
         ],
         "hovertemplate": "<b>%{hovertext}</b><br><br>Score=%{y}<br>Release date=%{customdata[2]}<br>Episode=%{customdata[3]}<extra></extra>",
         "hovertext": [
          "Lazarus Rising",
          "Are You There, God? It's Me, Dean Winchester",
          "In the Beginning",
          "Metamorphosis",
          "Monster Movie",
          "Yellow Fever",
          "It's the Great Pumpkin, Sam Winchester",
          "Wishful Thinking",
          "I Know What You Did Last Summer",
          "Heaven and Hell",
          "Family Remains",
          "Criss Angel Is a Douche Bag",
          "After School Special",
          "Sex and Violence",
          "Death Takes a Holiday",
          "On the Head of a Pin",
          "It's a Terrible Life",
          "The Monster at the End of This Book",
          "Jump the Shark",
          "The Rapture",
          "When the Levee Breaks",
          "Lucifer Rising"
         ],
         "legendgroup": "",
         "marker": {
          "color": [
           4,
           4,
           4,
           4,
           4,
           4,
           4,
           4,
           4,
           4,
           4,
           4,
           4,
           4,
           4,
           4,
           4,
           4,
           4,
           4,
           4,
           4
          ],
          "coloraxis": "coloraxis",
          "symbol": "circle"
         },
         "mode": "markers",
         "name": "",
         "orientation": "v",
         "showlegend": false,
         "type": "scatter",
         "x": [
          1,
          2,
          3,
          4,
          5,
          6,
          7,
          8,
          9,
          10,
          11,
          12,
          13,
          14,
          15,
          16,
          17,
          18,
          19,
          20,
          21,
          22
         ],
         "xaxis": "x4",
         "y": [
          9.4,
          8.6,
          9.2,
          8.1,
          8.5,
          9.2,
          8.5,
          8.7,
          8.7,
          8.9,
          8.1,
          8.1,
          8.8,
          8.5,
          8.7,
          9.1,
          8.8,
          9.3,
          8.3,
          8.7,
          8.6,
          9.3
         ],
         "yaxis": "y4"
        },
        {
         "customdata": [
          [
           "Sympathy for the Devil",
           5,
           "10 Sep. 2009",
           "S05 EP01"
          ],
          [
           "Good God, Y'All",
           5,
           "17 Sep. 2009",
           "S05 EP02"
          ],
          [
           "Free to Be You and Me",
           5,
           "24 Sep. 2009",
           "S05 EP03"
          ],
          [
           "The End",
           5,
           "1 Oct. 2009",
           "S05 EP04"
          ],
          [
           "Fallen Idols",
           5,
           "8 Oct. 2009",
           "S05 EP05"
          ],
          [
           "I Believe the Children Are Our Future",
           5,
           "15 Oct. 2009",
           "S05 EP06"
          ],
          [
           "The Curious Case of Dean Winchester",
           5,
           "29 Oct. 2009",
           "S05 EP07"
          ],
          [
           "Changing Channels",
           5,
           "5 Nov. 2009",
           "S05 EP08"
          ],
          [
           "The Real Ghostbusters",
           5,
           "12 Nov. 2009",
           "S05 EP09"
          ],
          [
           "Abandon All Hope",
           5,
           "19 Nov. 2009",
           "S05 EP10"
          ],
          [
           "Sam, Interrupted",
           5,
           "21 Jan. 2010",
           "S05 EP11"
          ],
          [
           "Swap Meat",
           5,
           "28 Jan. 2010",
           "S05 EP12"
          ],
          [
           "The Song Remains the Same",
           5,
           "4 Feb. 2010",
           "S05 EP13"
          ],
          [
           "My Bloody Valentine",
           5,
           "11 Feb. 2010",
           "S05 EP14"
          ],
          [
           "Dead Men Don't Wear Plaid",
           5,
           "25 Mar. 2010",
           "S05 EP15"
          ],
          [
           "Dark Side of the Moon",
           5,
           "1 Apr. 2010",
           "S05 EP16"
          ],
          [
           "99 Problems",
           5,
           "8 Apr. 2010",
           "S05 EP17"
          ],
          [
           "Point of No Return",
           5,
           "15 Apr. 2010",
           "S05 EP18"
          ],
          [
           "Hammer of the Gods",
           5,
           "22 Apr. 2010",
           "S05 EP19"
          ],
          [
           "The Devil You Know",
           5,
           "29 Apr. 2010",
           "S05 EP20"
          ],
          [
           "Two Minutes to Midnight",
           5,
           "6 May 2010",
           "S05 EP21"
          ],
          [
           "Swan Song",
           5,
           "13 May 2010",
           "S05 EP22"
          ]
         ],
         "hovertemplate": "<b>%{hovertext}</b><br><br>Score=%{y}<br>Release date=%{customdata[2]}<br>Episode=%{customdata[3]}<extra></extra>",
         "hovertext": [
          "Sympathy for the Devil",
          "Good God, Y'All",
          "Free to Be You and Me",
          "The End",
          "Fallen Idols",
          "I Believe the Children Are Our Future",
          "The Curious Case of Dean Winchester",
          "Changing Channels",
          "The Real Ghostbusters",
          "Abandon All Hope",
          "Sam, Interrupted",
          "Swap Meat",
          "The Song Remains the Same",
          "My Bloody Valentine",
          "Dead Men Don't Wear Plaid",
          "Dark Side of the Moon",
          "99 Problems",
          "Point of No Return",
          "Hammer of the Gods",
          "The Devil You Know",
          "Two Minutes to Midnight",
          "Swan Song"
         ],
         "legendgroup": "",
         "marker": {
          "color": [
           5,
           5,
           5,
           5,
           5,
           5,
           5,
           5,
           5,
           5,
           5,
           5,
           5,
           5,
           5,
           5,
           5,
           5,
           5,
           5,
           5,
           5
          ],
          "coloraxis": "coloraxis",
          "symbol": "circle"
         },
         "mode": "markers",
         "name": "",
         "orientation": "v",
         "showlegend": false,
         "type": "scatter",
         "x": [
          1,
          2,
          3,
          4,
          5,
          6,
          7,
          8,
          9,
          10,
          11,
          12,
          13,
          14,
          15,
          16,
          17,
          18,
          19,
          20,
          21,
          22
         ],
         "xaxis": "x5",
         "y": [
          8.8,
          8.7,
          8.6,
          9.2,
          8.1,
          8.6,
          8.8,
          9.7,
          8.9,
          9.3,
          8.6,
          8.3,
          9.1,
          8.9,
          8.6,
          8.8,
          8.5,
          9,
          9.1,
          8.7,
          9.3,
          9.7
         ],
         "yaxis": "y5"
        },
        {
         "customdata": [
          [
           "Exile on Main St.",
           6,
           "24 Sep. 2010",
           "S06 EP01"
          ],
          [
           "Two and a Half Men",
           6,
           "1 Oct. 2010",
           "S06 EP02"
          ],
          [
           "The Third Man",
           6,
           "8 Oct. 2010",
           "S06 EP03"
          ],
          [
           "Weekend at Bobby's",
           6,
           "15 Oct. 2010",
           "S06 EP04"
          ],
          [
           "Live Free or Twihard",
           6,
           "22 Oct. 2010",
           "S06 EP05"
          ],
          [
           "You Can't Handle the Truth",
           6,
           "29 Oct. 2010",
           "S06 EP06"
          ],
          [
           "Family Matters",
           6,
           "5 Nov. 2010",
           "S06 EP07"
          ],
          [
           "All Dogs Go to Heaven",
           6,
           "12 Nov. 2010",
           "S06 EP08"
          ],
          [
           "Clap Your Hands If You Believe",
           6,
           "19 Nov. 2010",
           "S06 EP09"
          ],
          [
           "Caged Heat",
           6,
           "3 Dec. 2010",
           "S06 EP10"
          ],
          [
           "Appointment in Samarra",
           6,
           "10 Dec. 2010",
           "S06 EP11"
          ],
          [
           "Like a Virgin",
           6,
           "4 Feb. 2011",
           "S06 EP12"
          ],
          [
           "Unforgiven",
           6,
           "11 Feb. 2011",
           "S06 EP13"
          ],
          [
           "Mannequin 3: The Reckoning",
           6,
           "18 Feb. 2011",
           "S06 EP14"
          ],
          [
           "The French Mistake",
           6,
           "25 Feb. 2011",
           "S06 EP15"
          ],
          [
           "And Then There Were None",
           6,
           "4 Mar. 2011",
           "S06 EP16"
          ],
          [
           "My Heart Will Go On",
           6,
           "15 Apr. 2011",
           "S06 EP17"
          ],
          [
           "Frontierland",
           6,
           "22 Apr. 2011",
           "S06 EP18"
          ],
          [
           "Mommy Dearest",
           6,
           "29 Apr. 2011",
           "S06 EP19"
          ],
          [
           "The Man Who Would Be King",
           6,
           "6 May 2011",
           "S06 EP20"
          ],
          [
           "Let It Bleed",
           6,
           "20 May 2011",
           "S06 EP21"
          ],
          [
           "The Man Who Knew Too Much",
           6,
           "20 May 2011",
           "S06 EP22"
          ]
         ],
         "hovertemplate": "<b>%{hovertext}</b><br><br>Score=%{y}<br>Release date=%{customdata[2]}<br>Episode=%{customdata[3]}<extra></extra>",
         "hovertext": [
          "Exile on Main St.",
          "Two and a Half Men",
          "The Third Man",
          "Weekend at Bobby's",
          "Live Free or Twihard",
          "You Can't Handle the Truth",
          "Family Matters",
          "All Dogs Go to Heaven",
          "Clap Your Hands If You Believe",
          "Caged Heat",
          "Appointment in Samarra",
          "Like a Virgin",
          "Unforgiven",
          "Mannequin 3: The Reckoning",
          "The French Mistake",
          "And Then There Were None",
          "My Heart Will Go On",
          "Frontierland",
          "Mommy Dearest",
          "The Man Who Would Be King",
          "Let It Bleed",
          "The Man Who Knew Too Much"
         ],
         "legendgroup": "",
         "marker": {
          "color": [
           6,
           6,
           6,
           6,
           6,
           6,
           6,
           6,
           6,
           6,
           6,
           6,
           6,
           6,
           6,
           6,
           6,
           6,
           6,
           6,
           6,
           6
          ],
          "coloraxis": "coloraxis",
          "symbol": "circle"
         },
         "mode": "markers",
         "name": "",
         "orientation": "v",
         "showlegend": false,
         "type": "scatter",
         "x": [
          1,
          2,
          3,
          4,
          5,
          6,
          7,
          8,
          9,
          10,
          11,
          12,
          13,
          14,
          15,
          16,
          17,
          18,
          19,
          20,
          21,
          22
         ],
         "xaxis": "x6",
         "y": [
          7.8,
          8,
          8.2,
          9.2,
          8.4,
          8.5,
          8.1,
          7.8,
          8.5,
          8.6,
          9.2,
          8.4,
          8.1,
          7.6,
          9.6,
          8.4,
          8.7,
          9,
          8.6,
          8.9,
          8.6,
          9
         ],
         "yaxis": "y6"
        },
        {
         "customdata": [
          [
           "Meet the New Boss",
           7,
           "23 Sep. 2011",
           "S07 EP01"
          ],
          [
           "Hello, Cruel World",
           7,
           "30 Sep. 2011",
           "S07 EP02"
          ],
          [
           "The Girl Next Door",
           7,
           "7 Oct. 2011",
           "S07 EP03"
          ],
          [
           "Defending Your Life",
           7,
           "14 Oct. 2011",
           "S07 EP04"
          ],
          [
           "Shut Up, Dr. Phil",
           7,
           "21 Oct. 2011",
           "S07 EP05"
          ],
          [
           "Slash Fiction",
           7,
           "28 Oct. 2011",
           "S07 EP06"
          ],
          [
           "The Mentalists",
           7,
           "4 Nov. 2011",
           "S07 EP07"
          ],
          [
           "Season Seven, Time for a Wedding!",
           7,
           "11 Nov. 2011",
           "S07 EP08"
          ],
          [
           "How to Win Friends and Influence Monsters",
           7,
           "18 Nov. 2011",
           "S07 EP09"
          ],
          [
           "Death's Door",
           7,
           "2 Dec. 2011",
           "S07 EP10"
          ],
          [
           "Adventures in Babysitting",
           7,
           "6 Jan. 2012",
           "S07 EP11"
          ],
          [
           "Time After Time",
           7,
           "13 Jan. 2012",
           "S07 EP12"
          ],
          [
           "The Slice Girls",
           7,
           "3 Feb. 2012",
           "S07 EP13"
          ],
          [
           "Plucky Pennywhistle's Magical Menagerie",
           7,
           "10 Feb. 2012",
           "S07 EP14"
          ],
          [
           "Repo Man",
           7,
           "17 Feb. 2012",
           "S07 EP15"
          ],
          [
           "Out with the Old",
           7,
           "16 Mar. 2012",
           "S07 EP16"
          ],
          [
           "The Born-Again Identity",
           7,
           "23 Mar. 2012",
           "S07 EP17"
          ],
          [
           "Party On, Garth",
           7,
           "30 Mar. 2012",
           "S07 EP18"
          ],
          [
           "Of Grave Importance",
           7,
           "20 Apr. 2012",
           "S07 EP19"
          ],
          [
           "The Girl with the Dungeons and Dragons Tattoo",
           7,
           "27 Apr. 2012",
           "S07 EP20"
          ],
          [
           "Reading is Fundamental",
           7,
           "4 May 2012",
           "S07 EP21"
          ],
          [
           "There Will Be Blood",
           7,
           "11 May 2012",
           "S07 EP22"
          ],
          [
           "Survival of the Fittest",
           7,
           "18 May 2012",
           "S07 EP23"
          ]
         ],
         "hovertemplate": "<b>%{hovertext}</b><br><br>Score=%{y}<br>Release date=%{customdata[2]}<br>Episode=%{customdata[3]}<extra></extra>",
         "hovertext": [
          "Meet the New Boss",
          "Hello, Cruel World",
          "The Girl Next Door",
          "Defending Your Life",
          "Shut Up, Dr. Phil",
          "Slash Fiction",
          "The Mentalists",
          "Season Seven, Time for a Wedding!",
          "How to Win Friends and Influence Monsters",
          "Death's Door",
          "Adventures in Babysitting",
          "Time After Time",
          "The Slice Girls",
          "Plucky Pennywhistle's Magical Menagerie",
          "Repo Man",
          "Out with the Old",
          "The Born-Again Identity",
          "Party On, Garth",
          "Of Grave Importance",
          "The Girl with the Dungeons and Dragons Tattoo",
          "Reading is Fundamental",
          "There Will Be Blood",
          "Survival of the Fittest"
         ],
         "legendgroup": "",
         "marker": {
          "color": [
           7,
           7,
           7,
           7,
           7,
           7,
           7,
           7,
           7,
           7,
           7,
           7,
           7,
           7,
           7,
           7,
           7,
           7,
           7,
           7,
           7,
           7,
           7
          ],
          "coloraxis": "coloraxis",
          "symbol": "circle"
         },
         "mode": "markers",
         "name": "",
         "orientation": "v",
         "showlegend": false,
         "type": "scatter",
         "x": [
          1,
          2,
          3,
          4,
          5,
          6,
          7,
          8,
          9,
          10,
          11,
          12,
          13,
          14,
          15,
          16,
          17,
          18,
          19,
          20,
          21,
          22,
          23
         ],
         "xaxis": "x7",
         "y": [
          9,
          8.5,
          8.2,
          8,
          8.2,
          8.7,
          8.1,
          8,
          8.5,
          9.2,
          8.1,
          8.8,
          8.1,
          8.2,
          8.2,
          8.2,
          9,
          8.5,
          8.5,
          9.1,
          8.6,
          8.6,
          8.8
         ],
         "yaxis": "y7"
        },
        {
         "customdata": [
          [
           "We Need to Talk About Kevin",
           8,
           "3 Oct. 2012",
           "S08 EP01"
          ],
          [
           "What's Up, Tiger Mommy?",
           8,
           "10 Oct. 2012",
           "S08 EP02"
          ],
          [
           "Heartache",
           8,
           "17 Oct. 2012",
           "S08 EP03"
          ],
          [
           "Bitten",
           8,
           "24 Oct. 2012",
           "S08 EP04"
          ],
          [
           "Blood Brother",
           8,
           "31 Oct. 2012",
           "S08 EP05"
          ],
          [
           "Southern Comfort",
           8,
           "7 Nov. 2012",
           "S08 EP06"
          ],
          [
           "A Little Slice of Kevin",
           8,
           "14 Nov. 2012",
           "S08 EP07"
          ],
          [
           "Hunteri Heroici",
           8,
           "28 Nov. 2012",
           "S08 EP08"
          ],
          [
           "Citizen Fang",
           8,
           "5 Dec. 2012",
           "S08 EP09"
          ],
          [
           "Torn and Frayed",
           8,
           "16 Jan. 2013",
           "S08 EP10"
          ],
          [
           "LARP and the Real Girl",
           8,
           "23 Jan. 2013",
           "S08 EP11"
          ],
          [
           "As Time Goes By",
           8,
           "30 Jan. 2013",
           "S08 EP12"
          ],
          [
           "Everybody Hates Hitler",
           8,
           "6 Feb. 2013",
           "S08 EP13"
          ],
          [
           "Trial and Error",
           8,
           "13 Feb. 2013",
           "S08 EP14"
          ],
          [
           "Man's Best Friend with Benefits",
           8,
           "20 Feb. 2013",
           "S08 EP15"
          ],
          [
           "Remember the Titans",
           8,
           "27 Feb. 2013",
           "S08 EP16"
          ],
          [
           "Goodbye Stranger",
           8,
           "20 Mar. 2013",
           "S08 EP17"
          ],
          [
           "Freaks and Geeks",
           8,
           "27 Mar. 2013",
           "S08 EP18"
          ],
          [
           "Taxi Driver",
           8,
           "3 Apr. 2013",
           "S08 EP19"
          ],
          [
           "Pac-Man Fever",
           8,
           "24 Apr. 2013",
           "S08 EP20"
          ],
          [
           "The Great Escapist",
           8,
           "1 May 2013",
           "S08 EP21"
          ],
          [
           "Clip Show",
           8,
           "8 May 2013",
           "S08 EP22"
          ],
          [
           "Sacrifice",
           8,
           "15 May 2013",
           "S08 EP23"
          ]
         ],
         "hovertemplate": "<b>%{hovertext}</b><br><br>Score=%{y}<br>Release date=%{customdata[2]}<br>Episode=%{customdata[3]}<extra></extra>",
         "hovertext": [
          "We Need to Talk About Kevin",
          "What's Up, Tiger Mommy?",
          "Heartache",
          "Bitten",
          "Blood Brother",
          "Southern Comfort",
          "A Little Slice of Kevin",
          "Hunteri Heroici",
          "Citizen Fang",
          "Torn and Frayed",
          "LARP and the Real Girl",
          "As Time Goes By",
          "Everybody Hates Hitler",
          "Trial and Error",
          "Man's Best Friend with Benefits",
          "Remember the Titans",
          "Goodbye Stranger",
          "Freaks and Geeks",
          "Taxi Driver",
          "Pac-Man Fever",
          "The Great Escapist",
          "Clip Show",
          "Sacrifice"
         ],
         "legendgroup": "",
         "marker": {
          "color": [
           8,
           8,
           8,
           8,
           8,
           8,
           8,
           8,
           8,
           8,
           8,
           8,
           8,
           8,
           8,
           8,
           8,
           8,
           8,
           8,
           8,
           8,
           8
          ],
          "coloraxis": "coloraxis",
          "symbol": "circle"
         },
         "mode": "markers",
         "name": "",
         "orientation": "v",
         "showlegend": false,
         "type": "scatter",
         "x": [
          1,
          2,
          3,
          4,
          5,
          6,
          7,
          8,
          9,
          10,
          11,
          12,
          13,
          14,
          15,
          16,
          17,
          18,
          19,
          20,
          21,
          22,
          23
         ],
         "xaxis": "x8",
         "y": [
          8.3,
          8.3,
          7.7,
          7.2,
          8,
          8,
          8.3,
          8.8,
          8.2,
          8.1,
          8.8,
          9.1,
          8.6,
          8.6,
          7.4,
          7.8,
          8.5,
          7.5,
          8.6,
          8.5,
          8.5,
          8.5,
          9.3
         ],
         "yaxis": "y8"
        },
        {
         "customdata": [
          [
           "I Think I'm Gonna Like It Here",
           9,
           "8 Oct. 2013",
           "S09 EP01"
          ],
          [
           "Devil May Care",
           9,
           "15 Oct. 2013",
           "S09 EP02"
          ],
          [
           "I'm No Angel",
           9,
           "22 Oct. 2013",
           "S09 EP03"
          ],
          [
           "Slumber Party",
           9,
           "29 Oct. 2013",
           "S09 EP04"
          ],
          [
           "Dog Dean Afternoon",
           9,
           "5 Nov. 2013",
           "S09 EP05"
          ],
          [
           "Heaven Can't Wait",
           9,
           "12 Nov. 2013",
           "S09 EP06"
          ],
          [
           "Bad Boys",
           9,
           "19 Nov. 2013",
           "S09 EP07"
          ],
          [
           "Rock and a Hard Place",
           9,
           "26 Nov. 2013",
           "S09 EP08"
          ],
          [
           "Holy Terror",
           9,
           "3 Dec. 2013",
           "S09 EP09"
          ],
          [
           "Road Trip",
           9,
           "14 Jan. 2014",
           "S09 EP10"
          ],
          [
           "First Born",
           9,
           "21 Jan. 2014",
           "S09 EP11"
          ],
          [
           "Sharp Teeth",
           9,
           "28 Jan. 2014",
           "S09 EP12"
          ],
          [
           "The Purge",
           9,
           "4 Feb. 2014",
           "S09 EP13"
          ],
          [
           "Captives",
           9,
           "25 Feb. 2014",
           "S09 EP14"
          ],
          [
           "#thinman",
           9,
           "4 Mar. 2014",
           "S09 EP15"
          ],
          [
           "Blade Runners",
           9,
           "18 Mar. 2014",
           "S09 EP16"
          ],
          [
           "Mother's Little Helper",
           9,
           "25 Mar. 2014",
           "S09 EP17"
          ],
          [
           "Meta Fiction",
           9,
           "15 Apr. 2014",
           "S09 EP18"
          ],
          [
           "Alex Annie Alexis Ann",
           9,
           "22 Apr. 2014",
           "S09 EP19"
          ],
          [
           "Bloodlines",
           9,
           "29 Apr. 2014",
           "S09 EP20"
          ],
          [
           "King of the Damned",
           9,
           "6 May 2014",
           "S09 EP21"
          ],
          [
           "Stairway to Heaven",
           9,
           "13 May 2014",
           "S09 EP22"
          ],
          [
           "Do You Believe in Miracles",
           9,
           "20 May 2014",
           "S09 EP23"
          ]
         ],
         "hovertemplate": "<b>%{hovertext}</b><br><br>Score=%{y}<br>Release date=%{customdata[2]}<br>Episode=%{customdata[3]}<extra></extra>",
         "hovertext": [
          "I Think I'm Gonna Like It Here",
          "Devil May Care",
          "I'm No Angel",
          "Slumber Party",
          "Dog Dean Afternoon",
          "Heaven Can't Wait",
          "Bad Boys",
          "Rock and a Hard Place",
          "Holy Terror",
          "Road Trip",
          "First Born",
          "Sharp Teeth",
          "The Purge",
          "Captives",
          "#thinman",
          "Blade Runners",
          "Mother's Little Helper",
          "Meta Fiction",
          "Alex Annie Alexis Ann",
          "Bloodlines",
          "King of the Damned",
          "Stairway to Heaven",
          "Do You Believe in Miracles"
         ],
         "legendgroup": "",
         "marker": {
          "color": [
           9,
           9,
           9,
           9,
           9,
           9,
           9,
           9,
           9,
           9,
           9,
           9,
           9,
           9,
           9,
           9,
           9,
           9,
           9,
           9,
           9,
           9,
           9
          ],
          "coloraxis": "coloraxis",
          "symbol": "circle"
         },
         "mode": "markers",
         "name": "",
         "orientation": "v",
         "showlegend": false,
         "type": "scatter",
         "x": [
          1,
          2,
          3,
          4,
          5,
          6,
          7,
          8,
          9,
          10,
          11,
          12,
          13,
          14,
          15,
          16,
          17,
          18,
          19,
          20,
          21,
          22,
          23
         ],
         "xaxis": "x9",
         "y": [
          8.7,
          8.4,
          8.3,
          8.1,
          8.6,
          8.2,
          8.4,
          8,
          8.7,
          8.9,
          9.2,
          7.6,
          7.9,
          8.1,
          7.4,
          8.4,
          8.6,
          8.2,
          7.7,
          5.9,
          8.7,
          8.4,
          9.3
         ],
         "yaxis": "y9"
        },
        {
         "customdata": [
          [
           "Black",
           10,
           "7 Oct. 2014",
           "S10 EP01"
          ],
          [
           "Reichenbach",
           10,
           "14 Oct. 2014",
           "S10 EP02"
          ],
          [
           "Soul Survivor",
           10,
           "21 Oct. 2014",
           "S10 EP03"
          ],
          [
           "Paper Moon",
           10,
           "28 Oct. 2014",
           "S10 EP04"
          ],
          [
           "Fan Fiction",
           10,
           "11 Nov. 2014",
           "S10 EP05"
          ],
          [
           "Ask Jeeves",
           10,
           "18 Nov. 2014",
           "S10 EP06"
          ],
          [
           "Girls, Girls, Girls",
           10,
           "25 Nov. 2014",
           "S10 EP07"
          ],
          [
           "Hibbing 911",
           10,
           "2 Dec. 2014",
           "S10 EP08"
          ],
          [
           "The Things We Left Behind",
           10,
           "9 Dec. 2014",
           "S10 EP09"
          ],
          [
           "The Hunter Games",
           10,
           "20 Jan. 2015",
           "S10 EP10"
          ],
          [
           "There's No Place Like Home",
           10,
           "27 Jan. 2015",
           "S10 EP11"
          ],
          [
           "About a Boy",
           10,
           "3 Feb. 2015",
           "S10 EP12"
          ],
          [
           "Halt & Catch Fire",
           10,
           "10 Feb. 2015",
           "S10 EP13"
          ],
          [
           "The Executioner's Song",
           10,
           "17 Feb. 2015",
           "S10 EP14"
          ],
          [
           "The Things They Carried",
           10,
           "18 Mar. 2015",
           "S10 EP15"
          ],
          [
           "Paint It Black",
           10,
           "25 Mar. 2015",
           "S10 EP16"
          ],
          [
           "Inside Man",
           10,
           "1 Apr. 2015",
           "S10 EP17"
          ],
          [
           "Book of the Damned",
           10,
           "15 Apr. 2015",
           "S10 EP18"
          ],
          [
           "The Werther Project",
           10,
           "22 Apr. 2015",
           "S10 EP19"
          ],
          [
           "Angel Heart",
           10,
           "29 Apr. 2015",
           "S10 EP20"
          ],
          [
           "Dark Dynasty",
           10,
           "6 May 2015",
           "S10 EP21"
          ],
          [
           "The Prisoner",
           10,
           "13 May 2015",
           "S10 EP22"
          ],
          [
           "Brother's Keeper",
           10,
           "20 May 2015",
           "S10 EP23"
          ]
         ],
         "hovertemplate": "<b>%{hovertext}</b><br><br>Score=%{y}<br>Release date=%{customdata[2]}<br>Episode=%{customdata[3]}<extra></extra>",
         "hovertext": [
          "Black",
          "Reichenbach",
          "Soul Survivor",
          "Paper Moon",
          "Fan Fiction",
          "Ask Jeeves",
          "Girls, Girls, Girls",
          "Hibbing 911",
          "The Things We Left Behind",
          "The Hunter Games",
          "There's No Place Like Home",
          "About a Boy",
          "Halt & Catch Fire",
          "The Executioner's Song",
          "The Things They Carried",
          "Paint It Black",
          "Inside Man",
          "Book of the Damned",
          "The Werther Project",
          "Angel Heart",
          "Dark Dynasty",
          "The Prisoner",
          "Brother's Keeper"
         ],
         "legendgroup": "",
         "marker": {
          "color": [
           10,
           10,
           10,
           10,
           10,
           10,
           10,
           10,
           10,
           10,
           10,
           10,
           10,
           10,
           10,
           10,
           10,
           10,
           10,
           10,
           10,
           10,
           10
          ],
          "coloraxis": "coloraxis",
          "symbol": "circle"
         },
         "mode": "markers",
         "name": "",
         "orientation": "v",
         "showlegend": false,
         "type": "scatter",
         "x": [
          1,
          2,
          3,
          4,
          5,
          6,
          7,
          8,
          9,
          10,
          11,
          12,
          13,
          14,
          15,
          16,
          17,
          18,
          19,
          20,
          21,
          22,
          23
         ],
         "xaxis": "x10",
         "y": [
          8.3,
          8.7,
          8.4,
          7.2,
          9.5,
          8.1,
          8.2,
          8,
          8.1,
          7.8,
          8,
          8.7,
          7.4,
          8.8,
          8,
          7.3,
          8.6,
          8.8,
          8.6,
          8.2,
          7.3,
          9.1,
          9.1
         ],
         "yaxis": "y10"
        },
        {
         "customdata": [
          [
           "Out of the Darkness, Into the Fire",
           11,
           "7 Oct. 2015",
           "S11 EP01"
          ],
          [
           "Form and Void",
           11,
           "14 Oct. 2015",
           "S11 EP02"
          ],
          [
           "The Bad Seed",
           11,
           "21 Oct. 2015",
           "S11 EP03"
          ],
          [
           "Baby",
           11,
           "28 Oct. 2015",
           "S11 EP04"
          ],
          [
           "Thin Lizzie",
           11,
           "4 Nov. 2015",
           "S11 EP05"
          ],
          [
           "Our Little World",
           11,
           "11 Nov. 2015",
           "S11 EP06"
          ],
          [
           "Plush",
           11,
           "18 Nov. 2015",
           "S11 EP07"
          ],
          [
           "Just My Imagination",
           11,
           "2 Dec. 2015",
           "S11 EP08"
          ],
          [
           "O Brother, Where Art Thou?",
           11,
           "9 Dec. 2015",
           "S11 EP09"
          ],
          [
           "The Devil in the Details",
           11,
           "20 Jan. 2016",
           "S11 EP10"
          ],
          [
           "Into the Mystic",
           11,
           "27 Jan. 2016",
           "S11 EP11"
          ],
          [
           "Don't You Forget About Me",
           11,
           "3 Feb. 2016",
           "S11 EP12"
          ],
          [
           "Love Hurts",
           11,
           "10 Feb. 2016",
           "S11 EP13"
          ],
          [
           "The Vessel",
           11,
           "17 Feb. 2016",
           "S11 EP14"
          ],
          [
           "Beyond the Mat",
           11,
           "24 Feb. 2016",
           "S11 EP15"
          ],
          [
           "Safe House",
           11,
           "23 Mar. 2016",
           "S11 EP16"
          ],
          [
           "Red Meat",
           11,
           "30 Mar. 2016",
           "S11 EP17"
          ],
          [
           "Hell's Angel",
           11,
           "6 Apr. 2016",
           "S11 EP18"
          ],
          [
           "The Chitters",
           11,
           "27 Apr. 2016",
           "S11 EP19"
          ],
          [
           "Don't Call Me Shurley",
           11,
           "4 May 2016",
           "S11 EP20"
          ],
          [
           "All in the Family",
           11,
           "11 May 2016",
           "S11 EP21"
          ],
          [
           "We Happy Few",
           11,
           "18 May 2016",
           "S11 EP22"
          ],
          [
           "Alpha and Omega",
           11,
           "25 May 2016",
           "S11 EP23"
          ]
         ],
         "hovertemplate": "<b>%{hovertext}</b><br><br>Score=%{y}<br>Release date=%{customdata[2]}<br>Episode=%{customdata[3]}<extra></extra>",
         "hovertext": [
          "Out of the Darkness, Into the Fire",
          "Form and Void",
          "The Bad Seed",
          "Baby",
          "Thin Lizzie",
          "Our Little World",
          "Plush",
          "Just My Imagination",
          "O Brother, Where Art Thou?",
          "The Devil in the Details",
          "Into the Mystic",
          "Don't You Forget About Me",
          "Love Hurts",
          "The Vessel",
          "Beyond the Mat",
          "Safe House",
          "Red Meat",
          "Hell's Angel",
          "The Chitters",
          "Don't Call Me Shurley",
          "All in the Family",
          "We Happy Few",
          "Alpha and Omega"
         ],
         "legendgroup": "",
         "marker": {
          "color": [
           11,
           11,
           11,
           11,
           11,
           11,
           11,
           11,
           11,
           11,
           11,
           11,
           11,
           11,
           11,
           11,
           11,
           11,
           11,
           11,
           11,
           11,
           11
          ],
          "coloraxis": "coloraxis",
          "symbol": "circle"
         },
         "mode": "markers",
         "name": "",
         "orientation": "v",
         "showlegend": false,
         "type": "scatter",
         "x": [
          1,
          2,
          3,
          4,
          5,
          6,
          7,
          8,
          9,
          10,
          11,
          12,
          13,
          14,
          15,
          16,
          17,
          18,
          19,
          20,
          21,
          22,
          23
         ],
         "xaxis": "x11",
         "y": [
          8.6,
          8.7,
          8.2,
          9.5,
          8.4,
          8.5,
          8.2,
          9,
          9.2,
          9.1,
          8.6,
          8.4,
          8.1,
          8.8,
          7.8,
          9,
          8.4,
          8.8,
          7.7,
          9.4,
          8.8,
          8.8,
          8.5
         ],
         "yaxis": "y11"
        },
        {
         "customdata": [
          [
           "Keep Calm and Carry On",
           12,
           "13 Oct. 2016",
           "S12 EP01"
          ],
          [
           "Mamma Mia",
           12,
           "20 Oct. 2016",
           "S12 EP02"
          ],
          [
           "The Foundry",
           12,
           "27 Oct. 2016",
           "S12 EP03"
          ],
          [
           "American Nightmare",
           12,
           "3 Nov. 2016",
           "S12 EP04"
          ],
          [
           "The One You've Been Waiting For",
           12,
           "10 Nov. 2016",
           "S12 EP05"
          ],
          [
           "Celebrating the Life of Asa Fox",
           12,
           "17 Nov. 2016",
           "S12 EP06"
          ],
          [
           "Rock Never Dies",
           12,
           "1 Dec. 2016",
           "S12 EP07"
          ],
          [
           "LOTUS",
           12,
           "8 Dec. 2016",
           "S12 EP08"
          ],
          [
           "First Blood",
           12,
           "26 Jan. 2017",
           "S12 EP09"
          ],
          [
           "Lily Sunder Has Some Regrets",
           12,
           "2 Feb. 2017",
           "S12 EP10"
          ],
          [
           "Regarding Dean",
           12,
           "9 Feb. 2017",
           "S12 EP11"
          ],
          [
           "Stuck in the Middle (With You)",
           12,
           "16 Feb. 2017",
           "S12 EP12"
          ],
          [
           "Family Feud",
           12,
           "23 Feb. 2017",
           "S12 EP13"
          ],
          [
           "The Raid",
           12,
           "2 Mar. 2017",
           "S12 EP14"
          ],
          [
           "Somewhere Between Heaven and Hell",
           12,
           "9 Mar. 2017",
           "S12 EP15"
          ],
          [
           "Ladies Drink Free",
           12,
           "30 Mar. 2017",
           "S12 EP16"
          ],
          [
           "The British Invasion",
           12,
           "6 Apr. 2017",
           "S12 EP17"
          ],
          [
           "The Memory Remains",
           12,
           "13 Apr. 2017",
           "S12 EP18"
          ],
          [
           "The Future",
           12,
           "27 Apr. 2017",
           "S12 EP19"
          ],
          [
           "Twigs & Twine & Tasha Banes",
           12,
           "4 May 2017",
           "S12 EP20"
          ],
          [
           "There's Something About Mary",
           12,
           "11 May 2017",
           "S12 EP21"
          ],
          [
           "Who We Are",
           12,
           "18 May 2017",
           "S12 EP22"
          ],
          [
           "All Along the Watchtower",
           12,
           "18 May 2017",
           "S12 EP23"
          ]
         ],
         "hovertemplate": "<b>%{hovertext}</b><br><br>Score=%{y}<br>Release date=%{customdata[2]}<br>Episode=%{customdata[3]}<extra></extra>",
         "hovertext": [
          "Keep Calm and Carry On",
          "Mamma Mia",
          "The Foundry",
          "American Nightmare",
          "The One You've Been Waiting For",
          "Celebrating the Life of Asa Fox",
          "Rock Never Dies",
          "LOTUS",
          "First Blood",
          "Lily Sunder Has Some Regrets",
          "Regarding Dean",
          "Stuck in the Middle (With You)",
          "Family Feud",
          "The Raid",
          "Somewhere Between Heaven and Hell",
          "Ladies Drink Free",
          "The British Invasion",
          "The Memory Remains",
          "The Future",
          "Twigs & Twine & Tasha Banes",
          "There's Something About Mary",
          "Who We Are",
          "All Along the Watchtower"
         ],
         "legendgroup": "",
         "marker": {
          "color": [
           12,
           12,
           12,
           12,
           12,
           12,
           12,
           12,
           12,
           12,
           12,
           12,
           12,
           12,
           12,
           12,
           12,
           12,
           12,
           12,
           12,
           12,
           12
          ],
          "coloraxis": "coloraxis",
          "symbol": "circle"
         },
         "mode": "markers",
         "name": "",
         "orientation": "v",
         "showlegend": false,
         "type": "scatter",
         "x": [
          1,
          2,
          3,
          4,
          5,
          6,
          7,
          8,
          9,
          10,
          11,
          12,
          13,
          14,
          15,
          16,
          17,
          18,
          19,
          20,
          21,
          22,
          23
         ],
         "xaxis": "x12",
         "y": [
          8.4,
          8.2,
          8,
          8.3,
          7.6,
          8.5,
          7.5,
          8.1,
          8.2,
          8.2,
          9,
          9,
          7.7,
          8.5,
          8.2,
          8,
          8.2,
          8,
          8.2,
          8.1,
          7,
          9,
          8.9
         ],
         "yaxis": "y12"
        },
        {
         "customdata": [
          [
           "Lost and Found",
           13,
           "12 Oct. 2017",
           "S13 EP01"
          ],
          [
           "The Rising Son",
           13,
           "19 Oct. 2017",
           "S13 EP02"
          ],
          [
           "Patience",
           13,
           "26 Oct. 2017",
           "S13 EP03"
          ],
          [
           "The Big Empty",
           13,
           "2 Nov. 2017",
           "S13 EP04"
          ],
          [
           "Advanced Thanatology",
           13,
           "9 Nov. 2017",
           "S13 EP05"
          ],
          [
           "Tombstone",
           13,
           "16 Nov. 2017",
           "S13 EP06"
          ],
          [
           "War of the Worlds",
           13,
           "23 Nov. 2017",
           "S13 EP07"
          ],
          [
           "The Scorpion and the Frog",
           13,
           "30 Nov. 2017",
           "S13 EP08"
          ],
          [
           "The Bad Place",
           13,
           "7 Dec. 2017",
           "S13 EP09"
          ],
          [
           "Wayward Sisters",
           13,
           "18 Jan. 2018",
           "S13 EP10"
          ],
          [
           "Breakdown",
           13,
           "25 Jan. 2018",
           "S13 EP11"
          ],
          [
           "Various & Sundry Villains",
           13,
           "1 Feb. 2018",
           "S13 EP12"
          ],
          [
           "Devil's Bargain",
           13,
           "8 Feb. 2018",
           "S13 EP13"
          ],
          [
           "Good Intentions",
           13,
           "1 Mar. 2018",
           "S13 EP14"
          ],
          [
           "A Most Holy Man",
           13,
           "8 Mar. 2018",
           "S13 EP15"
          ],
          [
           "ScoobyNatural",
           13,
           "29 Mar. 2018",
           "S13 EP16"
          ],
          [
           "The Thing",
           13,
           "5 Apr. 2018",
           "S13 EP17"
          ],
          [
           "Bring 'em Back Alive",
           13,
           "12 Apr. 2018",
           "S13 EP18"
          ],
          [
           "Funeralia",
           13,
           "19 Apr. 2018",
           "S13 EP19"
          ],
          [
           "Unfinished Business",
           13,
           "26 Apr. 2018",
           "S13 EP20"
          ],
          [
           "Beat the Devil",
           13,
           "3 May 2018",
           "S13 EP21"
          ],
          [
           "Exodus",
           13,
           "10 May 2018",
           "S13 EP22"
          ],
          [
           "Let the Good Times Roll",
           13,
           "17 May 2018",
           "S13 EP23"
          ]
         ],
         "hovertemplate": "<b>%{hovertext}</b><br><br>Score=%{y}<br>Release date=%{customdata[2]}<br>Episode=%{customdata[3]}<extra></extra>",
         "hovertext": [
          "Lost and Found",
          "The Rising Son",
          "Patience",
          "The Big Empty",
          "Advanced Thanatology",
          "Tombstone",
          "War of the Worlds",
          "The Scorpion and the Frog",
          "The Bad Place",
          "Wayward Sisters",
          "Breakdown",
          "Various & Sundry Villains",
          "Devil's Bargain",
          "Good Intentions",
          "A Most Holy Man",
          "ScoobyNatural",
          "The Thing",
          "Bring 'em Back Alive",
          "Funeralia",
          "Unfinished Business",
          "Beat the Devil",
          "Exodus",
          "Let the Good Times Roll"
         ],
         "legendgroup": "",
         "marker": {
          "color": [
           13,
           13,
           13,
           13,
           13,
           13,
           13,
           13,
           13,
           13,
           13,
           13,
           13,
           13,
           13,
           13,
           13,
           13,
           13,
           13,
           13,
           13,
           13
          ],
          "coloraxis": "coloraxis",
          "symbol": "circle"
         },
         "mode": "markers",
         "name": "",
         "orientation": "v",
         "showlegend": false,
         "type": "scatter",
         "x": [
          1,
          2,
          3,
          4,
          5,
          6,
          7,
          8,
          9,
          10,
          11,
          12,
          13,
          14,
          15,
          16,
          17,
          18,
          19,
          20,
          21,
          22,
          23
         ],
         "xaxis": "x13",
         "y": [
          8.8,
          8.5,
          8.2,
          8.6,
          8.7,
          8.3,
          8.5,
          8.4,
          8.9,
          8.3,
          8.3,
          8.2,
          8.3,
          8.3,
          8.1,
          9.6,
          8.4,
          8.6,
          8.2,
          8.1,
          8.9,
          8.3,
          8.6
         ],
         "yaxis": "y13"
        },
        {
         "customdata": [
          [
           "Stranger in a Strange Land",
           14,
           "11 Oct. 2018",
           "S14 EP01"
          ],
          [
           "Gods and Monsters",
           14,
           "18 Oct. 2018",
           "S14 EP02"
          ],
          [
           "The Scar",
           14,
           "25 Oct. 2018",
           "S14 EP03"
          ],
          [
           "Mint Condition",
           14,
           "1 Nov. 2018",
           "S14 EP04"
          ],
          [
           "Nightmare Logic",
           14,
           "8 Nov. 2018",
           "S14 EP05"
          ],
          [
           "Optimism",
           14,
           "15 Nov. 2018",
           "S14 EP06"
          ],
          [
           "Unhuman Nature",
           14,
           "29 Nov. 2018",
           "S14 EP07"
          ],
          [
           "Byzantium",
           14,
           "6 Dec. 2018",
           "S14 EP08"
          ],
          [
           "The Spear",
           14,
           "13 Dec. 2018",
           "S14 EP09"
          ],
          [
           "Nihilism",
           14,
           "17 Jan. 2019",
           "S14 EP10"
          ],
          [
           "Damaged Goods",
           14,
           "24 Jan. 2019",
           "S14 EP11"
          ],
          [
           "Prophet and Loss",
           14,
           "31 Jan. 2019",
           "S14 EP12"
          ],
          [
           "Lebanon",
           14,
           "7 Feb. 2019",
           "S14 EP13"
          ],
          [
           "Ouroboros",
           14,
           "7 Mar. 2019",
           "S14 EP14"
          ],
          [
           "Peace of Mind",
           14,
           "14 Mar. 2019",
           "S14 EP15"
          ],
          [
           "Don't Go in the Woods",
           14,
           "21 Mar. 2019",
           "S14 EP16"
          ],
          [
           "Game Night",
           14,
           "4 Apr. 2019",
           "S14 EP17"
          ],
          [
           "Absence",
           14,
           "11 Apr. 2019",
           "S14 EP18"
          ],
          [
           "Jack in the Box",
           14,
           "18 Apr. 2019",
           "S14 EP19"
          ],
          [
           "Moriah",
           14,
           "25 Apr. 2019",
           "S14 EP20"
          ]
         ],
         "hovertemplate": "<b>%{hovertext}</b><br><br>Score=%{y}<br>Release date=%{customdata[2]}<br>Episode=%{customdata[3]}<extra></extra>",
         "hovertext": [
          "Stranger in a Strange Land",
          "Gods and Monsters",
          "The Scar",
          "Mint Condition",
          "Nightmare Logic",
          "Optimism",
          "Unhuman Nature",
          "Byzantium",
          "The Spear",
          "Nihilism",
          "Damaged Goods",
          "Prophet and Loss",
          "Lebanon",
          "Ouroboros",
          "Peace of Mind",
          "Don't Go in the Woods",
          "Game Night",
          "Absence",
          "Jack in the Box",
          "Moriah"
         ],
         "legendgroup": "",
         "marker": {
          "color": [
           14,
           14,
           14,
           14,
           14,
           14,
           14,
           14,
           14,
           14,
           14,
           14,
           14,
           14,
           14,
           14,
           14,
           14,
           14,
           14
          ],
          "coloraxis": "coloraxis",
          "symbol": "circle"
         },
         "mode": "markers",
         "name": "",
         "orientation": "v",
         "showlegend": false,
         "type": "scatter",
         "x": [
          1,
          2,
          3,
          4,
          5,
          6,
          7,
          8,
          9,
          10,
          11,
          12,
          13,
          14,
          15,
          16,
          17,
          18,
          19,
          20
         ],
         "xaxis": "x14",
         "y": [
          8.1,
          8,
          7.9,
          8.8,
          8,
          8,
          8.2,
          8.5,
          8.2,
          8.7,
          8.2,
          8.2,
          9.3,
          8.6,
          8.6,
          8,
          7.8,
          7.8,
          8.1,
          9.3
         ],
         "yaxis": "y14"
        },
        {
         "customdata": [
          [
           "Back and to the Future",
           15,
           "10 Oct. 2019",
           "S15 EP01"
          ],
          [
           "Raising Hell",
           15,
           "17 Oct. 2019",
           "S15 EP02"
          ],
          [
           "The Rupture",
           15,
           "24 Oct. 2019",
           "S15 EP03"
          ],
          [
           "Atomic Monsters",
           15,
           "7 Nov. 2019",
           "S15 EP04"
          ],
          [
           "Proverbs 17:3",
           15,
           "14 Nov. 2019",
           "S15 EP05"
          ],
          [
           "Golden Time",
           15,
           "21 Nov. 2019",
           "S15 EP06"
          ],
          [
           "Last Call",
           15,
           "5 Dec. 2019",
           "S15 EP07"
          ],
          [
           "Our Father, Who Aren't in Heaven",
           15,
           "12 Dec. 2019",
           "S15 EP08"
          ],
          [
           "The Trap",
           15,
           "16 Jan. 2020",
           "S15 EP09"
          ],
          [
           "The Heroes' Journey",
           15,
           "23 Jan. 2020",
           "S15 EP10"
          ],
          [
           "The Gamblers",
           15,
           "30 Jan. 2020",
           "S15 EP11"
          ],
          [
           "Galaxy Brain",
           15,
           "16 Mar. 2020",
           "S15 EP12"
          ],
          [
           "Destiny's Child",
           15,
           "23 Mar. 2020",
           "S15 EP13"
          ],
          [
           "Last Holiday",
           15,
           "8 Oct. 2020",
           "S15 EP14"
          ],
          [
           "Gimme Shelter",
           15,
           "15 Oct. 2020",
           "S15 EP15"
          ],
          [
           "Drag Me Away (From You)",
           15,
           "22 Oct. 2020",
           "S15 EP16"
          ],
          [
           "Unity",
           15,
           "29 Oct. 2020",
           "S15 EP17"
          ],
          [
           "Despair",
           15,
           "5 Nov. 2020",
           "S15 EP18"
          ],
          [
           "Inherit the Earth",
           15,
           "12 Nov. 2020",
           "S15 EP19"
          ],
          [
           "Carry On",
           15,
           "19 Nov. 2020",
           "S15 EP20"
          ]
         ],
         "hovertemplate": "<b>%{hovertext}</b><br><br>Score=%{y}<br>Release date=%{customdata[2]}<br>Episode=%{customdata[3]}<extra></extra>",
         "hovertext": [
          "Back and to the Future",
          "Raising Hell",
          "The Rupture",
          "Atomic Monsters",
          "Proverbs 17:3",
          "Golden Time",
          "Last Call",
          "Our Father, Who Aren't in Heaven",
          "The Trap",
          "The Heroes' Journey",
          "The Gamblers",
          "Galaxy Brain",
          "Destiny's Child",
          "Last Holiday",
          "Gimme Shelter",
          "Drag Me Away (From You)",
          "Unity",
          "Despair",
          "Inherit the Earth",
          "Carry On"
         ],
         "legendgroup": "",
         "marker": {
          "color": [
           15,
           15,
           15,
           15,
           15,
           15,
           15,
           15,
           15,
           15,
           15,
           15,
           15,
           15,
           15,
           15,
           15,
           15,
           15,
           15
          ],
          "coloraxis": "coloraxis",
          "symbol": "circle"
         },
         "mode": "markers",
         "name": "",
         "orientation": "v",
         "showlegend": false,
         "type": "scatter",
         "x": [
          1,
          2,
          3,
          4,
          5,
          6,
          7,
          8,
          9,
          10,
          11,
          12,
          13,
          14,
          15,
          16,
          17,
          18,
          19,
          20
         ],
         "xaxis": "x15",
         "y": [
          8.3,
          7.5,
          8.5,
          8.5,
          8.7,
          8.3,
          8.4,
          8.7,
          8.4,
          8.2,
          8.4,
          7.6,
          8.4,
          8.7,
          7.7,
          7.3,
          8.5,
          8.6,
          8.1,
          6.2
         ],
         "yaxis": "y15"
        }
       ],
       "layout": {
        "annotations": [
         {
          "font": {},
          "showarrow": false,
          "text": "Season 1",
          "x": 0.030999999999999996,
          "xanchor": "center",
          "xref": "paper",
          "y": 1,
          "yanchor": "bottom",
          "yref": "paper"
         },
         {
          "font": {},
          "showarrow": false,
          "text": "Season 2",
          "x": 0.09799999999999998,
          "xanchor": "center",
          "xref": "paper",
          "y": 1,
          "yanchor": "bottom",
          "yref": "paper"
         },
         {
          "font": {},
          "showarrow": false,
          "text": "Season 3",
          "x": 0.16499999999999998,
          "xanchor": "center",
          "xref": "paper",
          "y": 1,
          "yanchor": "bottom",
          "yref": "paper"
         },
         {
          "font": {},
          "showarrow": false,
          "text": "Season 4",
          "x": 0.23199999999999996,
          "xanchor": "center",
          "xref": "paper",
          "y": 1,
          "yanchor": "bottom",
          "yref": "paper"
         },
         {
          "font": {},
          "showarrow": false,
          "text": "Season 5",
          "x": 0.29899999999999993,
          "xanchor": "center",
          "xref": "paper",
          "y": 1,
          "yanchor": "bottom",
          "yref": "paper"
         },
         {
          "font": {},
          "showarrow": false,
          "text": "Season 6",
          "x": 0.366,
          "xanchor": "center",
          "xref": "paper",
          "y": 1,
          "yanchor": "bottom",
          "yref": "paper"
         },
         {
          "font": {},
          "showarrow": false,
          "text": "Season 7",
          "x": 0.43299999999999994,
          "xanchor": "center",
          "xref": "paper",
          "y": 1,
          "yanchor": "bottom",
          "yref": "paper"
         },
         {
          "font": {},
          "showarrow": false,
          "text": "Season 8",
          "x": 0.49999999999999994,
          "xanchor": "center",
          "xref": "paper",
          "y": 1,
          "yanchor": "bottom",
          "yref": "paper"
         },
         {
          "font": {},
          "showarrow": false,
          "text": "Season 9",
          "x": 0.567,
          "xanchor": "center",
          "xref": "paper",
          "y": 1,
          "yanchor": "bottom",
          "yref": "paper"
         },
         {
          "font": {},
          "showarrow": false,
          "text": "Season 10",
          "x": 0.6339999999999999,
          "xanchor": "center",
          "xref": "paper",
          "y": 1,
          "yanchor": "bottom",
          "yref": "paper"
         },
         {
          "font": {},
          "showarrow": false,
          "text": "Season 11",
          "x": 0.7009999999999998,
          "xanchor": "center",
          "xref": "paper",
          "y": 1,
          "yanchor": "bottom",
          "yref": "paper"
         },
         {
          "font": {},
          "showarrow": false,
          "text": "Season 12",
          "x": 0.7679999999999998,
          "xanchor": "center",
          "xref": "paper",
          "y": 1,
          "yanchor": "bottom",
          "yref": "paper"
         },
         {
          "font": {},
          "showarrow": false,
          "text": "Season 13",
          "x": 0.8349999999999997,
          "xanchor": "center",
          "xref": "paper",
          "y": 1,
          "yanchor": "bottom",
          "yref": "paper"
         },
         {
          "font": {},
          "showarrow": false,
          "text": "Season 14",
          "x": 0.9019999999999997,
          "xanchor": "center",
          "xref": "paper",
          "y": 1,
          "yanchor": "bottom",
          "yref": "paper"
         },
         {
          "font": {},
          "showarrow": false,
          "text": "Season 15",
          "x": 0.9689999999999996,
          "xanchor": "center",
          "xref": "paper",
          "y": 1,
          "yanchor": "bottom",
          "yref": "paper"
         }
        ],
        "coloraxis": {
         "colorbar": {
          "title": {
           "text": "Season"
          }
         },
         "colorscale": [
          [
           0,
           "rgb(0,0,255)"
          ],
          [
           1,
           "rgb(255,0,0)"
          ]
         ],
         "showscale": false
        },
        "legend": {
         "tracegroupgap": 0
        },
        "template": {
         "data": {
          "bar": [
           {
            "error_x": {
             "color": "#2a3f5f"
            },
            "error_y": {
             "color": "#2a3f5f"
            },
            "marker": {
             "line": {
              "color": "#E5ECF6",
              "width": 0.5
             },
             "pattern": {
              "fillmode": "overlay",
              "size": 10,
              "solidity": 0.2
             }
            },
            "type": "bar"
           }
          ],
          "barpolar": [
           {
            "marker": {
             "line": {
              "color": "#E5ECF6",
              "width": 0.5
             },
             "pattern": {
              "fillmode": "overlay",
              "size": 10,
              "solidity": 0.2
             }
            },
            "type": "barpolar"
           }
          ],
          "carpet": [
           {
            "aaxis": {
             "endlinecolor": "#2a3f5f",
             "gridcolor": "white",
             "linecolor": "white",
             "minorgridcolor": "white",
             "startlinecolor": "#2a3f5f"
            },
            "baxis": {
             "endlinecolor": "#2a3f5f",
             "gridcolor": "white",
             "linecolor": "white",
             "minorgridcolor": "white",
             "startlinecolor": "#2a3f5f"
            },
            "type": "carpet"
           }
          ],
          "choropleth": [
           {
            "colorbar": {
             "outlinewidth": 0,
             "ticks": ""
            },
            "type": "choropleth"
           }
          ],
          "contour": [
           {
            "colorbar": {
             "outlinewidth": 0,
             "ticks": ""
            },
            "colorscale": [
             [
              0,
              "#0d0887"
             ],
             [
              0.1111111111111111,
              "#46039f"
             ],
             [
              0.2222222222222222,
              "#7201a8"
             ],
             [
              0.3333333333333333,
              "#9c179e"
             ],
             [
              0.4444444444444444,
              "#bd3786"
             ],
             [
              0.5555555555555556,
              "#d8576b"
             ],
             [
              0.6666666666666666,
              "#ed7953"
             ],
             [
              0.7777777777777778,
              "#fb9f3a"
             ],
             [
              0.8888888888888888,
              "#fdca26"
             ],
             [
              1,
              "#f0f921"
             ]
            ],
            "type": "contour"
           }
          ],
          "contourcarpet": [
           {
            "colorbar": {
             "outlinewidth": 0,
             "ticks": ""
            },
            "type": "contourcarpet"
           }
          ],
          "heatmap": [
           {
            "colorbar": {
             "outlinewidth": 0,
             "ticks": ""
            },
            "colorscale": [
             [
              0,
              "#0d0887"
             ],
             [
              0.1111111111111111,
              "#46039f"
             ],
             [
              0.2222222222222222,
              "#7201a8"
             ],
             [
              0.3333333333333333,
              "#9c179e"
             ],
             [
              0.4444444444444444,
              "#bd3786"
             ],
             [
              0.5555555555555556,
              "#d8576b"
             ],
             [
              0.6666666666666666,
              "#ed7953"
             ],
             [
              0.7777777777777778,
              "#fb9f3a"
             ],
             [
              0.8888888888888888,
              "#fdca26"
             ],
             [
              1,
              "#f0f921"
             ]
            ],
            "type": "heatmap"
           }
          ],
          "heatmapgl": [
           {
            "colorbar": {
             "outlinewidth": 0,
             "ticks": ""
            },
            "colorscale": [
             [
              0,
              "#0d0887"
             ],
             [
              0.1111111111111111,
              "#46039f"
             ],
             [
              0.2222222222222222,
              "#7201a8"
             ],
             [
              0.3333333333333333,
              "#9c179e"
             ],
             [
              0.4444444444444444,
              "#bd3786"
             ],
             [
              0.5555555555555556,
              "#d8576b"
             ],
             [
              0.6666666666666666,
              "#ed7953"
             ],
             [
              0.7777777777777778,
              "#fb9f3a"
             ],
             [
              0.8888888888888888,
              "#fdca26"
             ],
             [
              1,
              "#f0f921"
             ]
            ],
            "type": "heatmapgl"
           }
          ],
          "histogram": [
           {
            "marker": {
             "pattern": {
              "fillmode": "overlay",
              "size": 10,
              "solidity": 0.2
             }
            },
            "type": "histogram"
           }
          ],
          "histogram2d": [
           {
            "colorbar": {
             "outlinewidth": 0,
             "ticks": ""
            },
            "colorscale": [
             [
              0,
              "#0d0887"
             ],
             [
              0.1111111111111111,
              "#46039f"
             ],
             [
              0.2222222222222222,
              "#7201a8"
             ],
             [
              0.3333333333333333,
              "#9c179e"
             ],
             [
              0.4444444444444444,
              "#bd3786"
             ],
             [
              0.5555555555555556,
              "#d8576b"
             ],
             [
              0.6666666666666666,
              "#ed7953"
             ],
             [
              0.7777777777777778,
              "#fb9f3a"
             ],
             [
              0.8888888888888888,
              "#fdca26"
             ],
             [
              1,
              "#f0f921"
             ]
            ],
            "type": "histogram2d"
           }
          ],
          "histogram2dcontour": [
           {
            "colorbar": {
             "outlinewidth": 0,
             "ticks": ""
            },
            "colorscale": [
             [
              0,
              "#0d0887"
             ],
             [
              0.1111111111111111,
              "#46039f"
             ],
             [
              0.2222222222222222,
              "#7201a8"
             ],
             [
              0.3333333333333333,
              "#9c179e"
             ],
             [
              0.4444444444444444,
              "#bd3786"
             ],
             [
              0.5555555555555556,
              "#d8576b"
             ],
             [
              0.6666666666666666,
              "#ed7953"
             ],
             [
              0.7777777777777778,
              "#fb9f3a"
             ],
             [
              0.8888888888888888,
              "#fdca26"
             ],
             [
              1,
              "#f0f921"
             ]
            ],
            "type": "histogram2dcontour"
           }
          ],
          "mesh3d": [
           {
            "colorbar": {
             "outlinewidth": 0,
             "ticks": ""
            },
            "type": "mesh3d"
           }
          ],
          "parcoords": [
           {
            "line": {
             "colorbar": {
              "outlinewidth": 0,
              "ticks": ""
             }
            },
            "type": "parcoords"
           }
          ],
          "pie": [
           {
            "automargin": true,
            "type": "pie"
           }
          ],
          "scatter": [
           {
            "marker": {
             "colorbar": {
              "outlinewidth": 0,
              "ticks": ""
             }
            },
            "type": "scatter"
           }
          ],
          "scatter3d": [
           {
            "line": {
             "colorbar": {
              "outlinewidth": 0,
              "ticks": ""
             }
            },
            "marker": {
             "colorbar": {
              "outlinewidth": 0,
              "ticks": ""
             }
            },
            "type": "scatter3d"
           }
          ],
          "scattercarpet": [
           {
            "marker": {
             "colorbar": {
              "outlinewidth": 0,
              "ticks": ""
             }
            },
            "type": "scattercarpet"
           }
          ],
          "scattergeo": [
           {
            "marker": {
             "colorbar": {
              "outlinewidth": 0,
              "ticks": ""
             }
            },
            "type": "scattergeo"
           }
          ],
          "scattergl": [
           {
            "marker": {
             "colorbar": {
              "outlinewidth": 0,
              "ticks": ""
             }
            },
            "type": "scattergl"
           }
          ],
          "scattermapbox": [
           {
            "marker": {
             "colorbar": {
              "outlinewidth": 0,
              "ticks": ""
             }
            },
            "type": "scattermapbox"
           }
          ],
          "scatterpolar": [
           {
            "marker": {
             "colorbar": {
              "outlinewidth": 0,
              "ticks": ""
             }
            },
            "type": "scatterpolar"
           }
          ],
          "scatterpolargl": [
           {
            "marker": {
             "colorbar": {
              "outlinewidth": 0,
              "ticks": ""
             }
            },
            "type": "scatterpolargl"
           }
          ],
          "scatterternary": [
           {
            "marker": {
             "colorbar": {
              "outlinewidth": 0,
              "ticks": ""
             }
            },
            "type": "scatterternary"
           }
          ],
          "surface": [
           {
            "colorbar": {
             "outlinewidth": 0,
             "ticks": ""
            },
            "colorscale": [
             [
              0,
              "#0d0887"
             ],
             [
              0.1111111111111111,
              "#46039f"
             ],
             [
              0.2222222222222222,
              "#7201a8"
             ],
             [
              0.3333333333333333,
              "#9c179e"
             ],
             [
              0.4444444444444444,
              "#bd3786"
             ],
             [
              0.5555555555555556,
              "#d8576b"
             ],
             [
              0.6666666666666666,
              "#ed7953"
             ],
             [
              0.7777777777777778,
              "#fb9f3a"
             ],
             [
              0.8888888888888888,
              "#fdca26"
             ],
             [
              1,
              "#f0f921"
             ]
            ],
            "type": "surface"
           }
          ],
          "table": [
           {
            "cells": {
             "fill": {
              "color": "#EBF0F8"
             },
             "line": {
              "color": "white"
             }
            },
            "header": {
             "fill": {
              "color": "#C8D4E3"
             },
             "line": {
              "color": "white"
             }
            },
            "type": "table"
           }
          ]
         },
         "layout": {
          "annotationdefaults": {
           "arrowcolor": "#2a3f5f",
           "arrowhead": 0,
           "arrowwidth": 1
          },
          "autotypenumbers": "strict",
          "coloraxis": {
           "colorbar": {
            "outlinewidth": 0,
            "ticks": ""
           }
          },
          "colorscale": {
           "diverging": [
            [
             0,
             "#8e0152"
            ],
            [
             0.1,
             "#c51b7d"
            ],
            [
             0.2,
             "#de77ae"
            ],
            [
             0.3,
             "#f1b6da"
            ],
            [
             0.4,
             "#fde0ef"
            ],
            [
             0.5,
             "#f7f7f7"
            ],
            [
             0.6,
             "#e6f5d0"
            ],
            [
             0.7,
             "#b8e186"
            ],
            [
             0.8,
             "#7fbc41"
            ],
            [
             0.9,
             "#4d9221"
            ],
            [
             1,
             "#276419"
            ]
           ],
           "sequential": [
            [
             0,
             "#0d0887"
            ],
            [
             0.1111111111111111,
             "#46039f"
            ],
            [
             0.2222222222222222,
             "#7201a8"
            ],
            [
             0.3333333333333333,
             "#9c179e"
            ],
            [
             0.4444444444444444,
             "#bd3786"
            ],
            [
             0.5555555555555556,
             "#d8576b"
            ],
            [
             0.6666666666666666,
             "#ed7953"
            ],
            [
             0.7777777777777778,
             "#fb9f3a"
            ],
            [
             0.8888888888888888,
             "#fdca26"
            ],
            [
             1,
             "#f0f921"
            ]
           ],
           "sequentialminus": [
            [
             0,
             "#0d0887"
            ],
            [
             0.1111111111111111,
             "#46039f"
            ],
            [
             0.2222222222222222,
             "#7201a8"
            ],
            [
             0.3333333333333333,
             "#9c179e"
            ],
            [
             0.4444444444444444,
             "#bd3786"
            ],
            [
             0.5555555555555556,
             "#d8576b"
            ],
            [
             0.6666666666666666,
             "#ed7953"
            ],
            [
             0.7777777777777778,
             "#fb9f3a"
            ],
            [
             0.8888888888888888,
             "#fdca26"
            ],
            [
             1,
             "#f0f921"
            ]
           ]
          },
          "colorway": [
           "#636efa",
           "#EF553B",
           "#00cc96",
           "#ab63fa",
           "#FFA15A",
           "#19d3f3",
           "#FF6692",
           "#B6E880",
           "#FF97FF",
           "#FECB52"
          ],
          "font": {
           "color": "#2a3f5f"
          },
          "geo": {
           "bgcolor": "white",
           "lakecolor": "white",
           "landcolor": "#E5ECF6",
           "showlakes": true,
           "showland": true,
           "subunitcolor": "white"
          },
          "hoverlabel": {
           "align": "left"
          },
          "hovermode": "closest",
          "mapbox": {
           "style": "light"
          },
          "paper_bgcolor": "white",
          "plot_bgcolor": "#E5ECF6",
          "polar": {
           "angularaxis": {
            "gridcolor": "white",
            "linecolor": "white",
            "ticks": ""
           },
           "bgcolor": "#E5ECF6",
           "radialaxis": {
            "gridcolor": "white",
            "linecolor": "white",
            "ticks": ""
           }
          },
          "scene": {
           "xaxis": {
            "backgroundcolor": "#E5ECF6",
            "gridcolor": "white",
            "gridwidth": 2,
            "linecolor": "white",
            "showbackground": true,
            "ticks": "",
            "zerolinecolor": "white"
           },
           "yaxis": {
            "backgroundcolor": "#E5ECF6",
            "gridcolor": "white",
            "gridwidth": 2,
            "linecolor": "white",
            "showbackground": true,
            "ticks": "",
            "zerolinecolor": "white"
           },
           "zaxis": {
            "backgroundcolor": "#E5ECF6",
            "gridcolor": "white",
            "gridwidth": 2,
            "linecolor": "white",
            "showbackground": true,
            "ticks": "",
            "zerolinecolor": "white"
           }
          },
          "shapedefaults": {
           "line": {
            "color": "#2a3f5f"
           }
          },
          "ternary": {
           "aaxis": {
            "gridcolor": "white",
            "linecolor": "white",
            "ticks": ""
           },
           "baxis": {
            "gridcolor": "white",
            "linecolor": "white",
            "ticks": ""
           },
           "bgcolor": "#E5ECF6",
           "caxis": {
            "gridcolor": "white",
            "linecolor": "white",
            "ticks": ""
           }
          },
          "title": {
           "x": 0.05
          },
          "xaxis": {
           "automargin": true,
           "gridcolor": "white",
           "linecolor": "white",
           "ticks": "",
           "title": {
            "standoff": 15
           },
           "zerolinecolor": "white",
           "zerolinewidth": 2
          },
          "yaxis": {
           "automargin": true,
           "gridcolor": "white",
           "linecolor": "white",
           "ticks": "",
           "title": {
            "standoff": 15
           },
           "zerolinecolor": "white",
           "zerolinewidth": 2
          }
         }
        },
        "title": {
         "text": "Supernatural episodes ratings by IMDb",
         "x": 0.5,
         "xanchor": "center",
         "y": 0.9,
         "yanchor": "top"
        },
        "xaxis": {
         "anchor": "y",
         "domain": [
          0,
          0.06199999999999999
         ],
         "showgrid": false,
         "showticklabels": false,
         "title": {
          "text": ""
         },
         "zeroline": false
        },
        "xaxis10": {
         "anchor": "y10",
         "domain": [
          0.603,
          0.6649999999999999
         ],
         "showgrid": false,
         "showticklabels": false,
         "title": {
          "text": ""
         },
         "zeroline": false
        },
        "xaxis11": {
         "anchor": "y11",
         "domain": [
          0.6699999999999999,
          0.7319999999999999
         ],
         "showgrid": false,
         "showticklabels": false,
         "title": {
          "text": ""
         },
         "zeroline": false
        },
        "xaxis12": {
         "anchor": "y12",
         "domain": [
          0.7369999999999999,
          0.7989999999999998
         ],
         "showgrid": false,
         "showticklabels": false,
         "title": {
          "text": ""
         },
         "zeroline": false
        },
        "xaxis13": {
         "anchor": "y13",
         "domain": [
          0.8039999999999998,
          0.8659999999999998
         ],
         "showgrid": false,
         "showticklabels": false,
         "title": {
          "text": ""
         },
         "zeroline": false
        },
        "xaxis14": {
         "anchor": "y14",
         "domain": [
          0.8709999999999998,
          0.9329999999999997
         ],
         "showgrid": false,
         "showticklabels": false,
         "title": {
          "text": ""
         },
         "zeroline": false
        },
        "xaxis15": {
         "anchor": "y15",
         "domain": [
          0.9379999999999997,
          0.9999999999999997
         ],
         "showgrid": false,
         "showticklabels": false,
         "title": {
          "text": ""
         },
         "zeroline": false
        },
        "xaxis2": {
         "anchor": "y2",
         "domain": [
          0.06699999999999999,
          0.12899999999999998
         ],
         "showgrid": false,
         "showticklabels": false,
         "title": {
          "text": ""
         },
         "zeroline": false
        },
        "xaxis3": {
         "anchor": "y3",
         "domain": [
          0.13399999999999998,
          0.19599999999999998
         ],
         "showgrid": false,
         "showticklabels": false,
         "title": {
          "text": ""
         },
         "zeroline": false
        },
        "xaxis4": {
         "anchor": "y4",
         "domain": [
          0.20099999999999996,
          0.26299999999999996
         ],
         "showgrid": false,
         "showticklabels": false,
         "title": {
          "text": ""
         },
         "zeroline": false
        },
        "xaxis5": {
         "anchor": "y5",
         "domain": [
          0.26799999999999996,
          0.32999999999999996
         ],
         "showgrid": false,
         "showticklabels": false,
         "title": {
          "text": ""
         },
         "zeroline": false
        },
        "xaxis6": {
         "anchor": "y6",
         "domain": [
          0.33499999999999996,
          0.39699999999999996
         ],
         "showgrid": false,
         "showticklabels": false,
         "title": {
          "text": ""
         },
         "zeroline": false
        },
        "xaxis7": {
         "anchor": "y7",
         "domain": [
          0.4019999999999999,
          0.4639999999999999
         ],
         "showgrid": false,
         "showticklabels": false,
         "title": {
          "text": ""
         },
         "zeroline": false
        },
        "xaxis8": {
         "anchor": "y8",
         "domain": [
          0.469,
          0.5309999999999999
         ],
         "showgrid": false,
         "showticklabels": false,
         "title": {
          "text": ""
         },
         "zeroline": false
        },
        "xaxis9": {
         "anchor": "y9",
         "domain": [
          0.5359999999999999,
          0.5979999999999999
         ],
         "showgrid": false,
         "showticklabels": false,
         "title": {
          "text": ""
         },
         "zeroline": false
        },
        "yaxis": {
         "anchor": "x",
         "domain": [
          0,
          1
         ],
         "dtick": 1.5,
         "tick0": 6.5,
         "title": {
          "text": "Ratings"
         }
        },
        "yaxis10": {
         "anchor": "x10",
         "domain": [
          0,
          1
         ],
         "dtick": 1.5,
         "matches": "y",
         "showticklabels": false,
         "tick0": 6.5
        },
        "yaxis11": {
         "anchor": "x11",
         "domain": [
          0,
          1
         ],
         "dtick": 1.5,
         "matches": "y",
         "showticklabels": false,
         "tick0": 6.5
        },
        "yaxis12": {
         "anchor": "x12",
         "domain": [
          0,
          1
         ],
         "dtick": 1.5,
         "matches": "y",
         "showticklabels": false,
         "tick0": 6.5
        },
        "yaxis13": {
         "anchor": "x13",
         "domain": [
          0,
          1
         ],
         "dtick": 1.5,
         "matches": "y",
         "showticklabels": false,
         "tick0": 6.5
        },
        "yaxis14": {
         "anchor": "x14",
         "domain": [
          0,
          1
         ],
         "dtick": 1.5,
         "matches": "y",
         "showticklabels": false,
         "tick0": 6.5
        },
        "yaxis15": {
         "anchor": "x15",
         "domain": [
          0,
          1
         ],
         "dtick": 1.5,
         "matches": "y",
         "showticklabels": false,
         "tick0": 6.5
        },
        "yaxis2": {
         "anchor": "x2",
         "domain": [
          0,
          1
         ],
         "dtick": 1.5,
         "matches": "y",
         "showticklabels": false,
         "tick0": 6.5
        },
        "yaxis3": {
         "anchor": "x3",
         "domain": [
          0,
          1
         ],
         "dtick": 1.5,
         "matches": "y",
         "showticklabels": false,
         "tick0": 6.5
        },
        "yaxis4": {
         "anchor": "x4",
         "domain": [
          0,
          1
         ],
         "dtick": 1.5,
         "matches": "y",
         "showticklabels": false,
         "tick0": 6.5
        },
        "yaxis5": {
         "anchor": "x5",
         "domain": [
          0,
          1
         ],
         "dtick": 1.5,
         "matches": "y",
         "showticklabels": false,
         "tick0": 6.5
        },
        "yaxis6": {
         "anchor": "x6",
         "domain": [
          0,
          1
         ],
         "dtick": 1.5,
         "matches": "y",
         "showticklabels": false,
         "tick0": 6.5
        },
        "yaxis7": {
         "anchor": "x7",
         "domain": [
          0,
          1
         ],
         "dtick": 1.5,
         "matches": "y",
         "showticklabels": false,
         "tick0": 6.5
        },
        "yaxis8": {
         "anchor": "x8",
         "domain": [
          0,
          1
         ],
         "dtick": 1.5,
         "matches": "y",
         "showticklabels": false,
         "tick0": 6.5
        },
        "yaxis9": {
         "anchor": "x9",
         "domain": [
          0,
          1
         ],
         "dtick": 1.5,
         "matches": "y",
         "showticklabels": false,
         "tick0": 6.5
        }
       }
      },
      "text/html": [
       "<div>                            <div id=\"eae38100-103c-4961-8d71-901d687b85b1\" class=\"plotly-graph-div\" style=\"height:525px; width:100%;\"></div>            <script type=\"text/javascript\">                require([\"plotly\"], function(Plotly) {                    window.PLOTLYENV=window.PLOTLYENV || {};                                    if (document.getElementById(\"eae38100-103c-4961-8d71-901d687b85b1\")) {                    Plotly.newPlot(                        \"eae38100-103c-4961-8d71-901d687b85b1\",                        [{\"customdata\":[[\"Pilot\",1,\"8 Nov. 2005\",\"S01 EP01\"],[\"Wendigo\",1,\"20 Sep. 2005\",\"S01 EP02\"],[\"Dead in the Water\",1,\"27 Sep. 2005\",\"S01 EP03\"],[\"Phantom Traveler\",1,\"4 Oct. 2005\",\"S01 EP04\"],[\"Bloody Mary\",1,\"11 Oct. 2005\",\"S01 EP05\"],[\"Skin\",1,\"18 Oct. 2005\",\"S01 EP06\"],[\"Hook Man\",1,\"25 Oct. 2005\",\"S01 EP07\"],[\"Bugs\",1,\"8 Nov. 2005\",\"S01 EP08\"],[\"Home\",1,\"15 Nov. 2005\",\"S01 EP09\"],[\"Asylum\",1,\"8 Feb. 2006\",\"S01 EP10\"],[\"Scarecrow\",1,\"10 Jan. 2006\",\"S01 EP11\"],[\"Faith\",1,\"17 Jan. 2006\",\"S01 EP12\"],[\"Route 666\",1,\"31 Jan. 2006\",\"S01 EP13\"],[\"Nightmare\",1,\"7 Feb. 2006\",\"S01 EP14\"],[\"The Benders\",1,\"14 Feb. 2006\",\"S01 EP15\"],[\"Shadow\",1,\"28 Feb. 2006\",\"S01 EP16\"],[\"Hell House\",1,\"30 Mar. 2006\",\"S01 EP17\"],[\"Something Wicked\",1,\"6 Apr. 2006\",\"S01 EP18\"],[\"Provenance\",1,\"13 Apr. 2006\",\"S01 EP19\"],[\"Dead Man's Blood\",1,\"20 Apr. 2006\",\"S01 EP20\"],[\"Salvation\",1,\"27 Apr. 2006\",\"S01 EP21\"],[\"Devil's Trap\",1,\"4 May 2006\",\"S01 EP22\"]],\"hovertemplate\":\"<b>%{hovertext}</b><br><br>Score=%{y}<br>Release date=%{customdata[2]}<br>Episode=%{customdata[3]}<extra></extra>\",\"hovertext\":[\"Pilot\",\"Wendigo\",\"Dead in the Water\",\"Phantom Traveler\",\"Bloody Mary\",\"Skin\",\"Hook Man\",\"Bugs\",\"Home\",\"Asylum\",\"Scarecrow\",\"Faith\",\"Route 666\",\"Nightmare\",\"The Benders\",\"Shadow\",\"Hell House\",\"Something Wicked\",\"Provenance\",\"Dead Man's Blood\",\"Salvation\",\"Devil's Trap\"],\"legendgroup\":\"\",\"marker\":{\"color\":[1,1,1,1,1,1,1,1,1,1,1,1,1,1,1,1,1,1,1,1,1,1],\"coloraxis\":\"coloraxis\",\"symbol\":\"circle\"},\"mode\":\"markers\",\"name\":\"\",\"orientation\":\"v\",\"showlegend\":false,\"type\":\"scatter\",\"x\":[1,2,3,4,5,6,7,8,9,10,11,12,13,14,15,16,17,18,19,20,21,22],\"xaxis\":\"x\",\"y\":[8.7,8.0,8.1,8.2,8.4,8.4,8.0,7.0,8.9,8.5,8.7,8.9,7.4,8.3,8.3,8.6,8.4,8.6,8.8,8.5,8.9,9.3],\"yaxis\":\"y\"},{\"customdata\":[[\"In My Time of Dying\",2,\"28 Sep. 2006\",\"S02 EP01\"],[\"Everybody Loves a Clown\",2,\"5 Oct. 2006\",\"S02 EP02\"],[\"Bloodlust\",2,\"12 Oct. 2006\",\"S02 EP03\"],[\"Children Shouldn't Play with Dead Things\",2,\"19 Oct. 2006\",\"S02 EP04\"],[\"Simon Said\",2,\"26 Oct. 2006\",\"S02 EP05\"],[\"No Exit\",2,\"2 Nov. 2006\",\"S02 EP06\"],[\"The Usual Suspects\",2,\"9 Nov. 2006\",\"S02 EP07\"],[\"Crossroad Blues\",2,\"16 Nov. 2006\",\"S02 EP08\"],[\"Croatoan\",2,\"7 Dec. 2006\",\"S02 EP09\"],[\"Hunted\",2,\"11 Jan. 2007\",\"S02 EP10\"],[\"Playthings\",2,\"18 Jan. 2007\",\"S02 EP11\"],[\"Nightshifter\",2,\"25 Jan. 2007\",\"S02 EP12\"],[\"Houses of the Holy\",2,\"1 Feb. 2007\",\"S02 EP13\"],[\"Born Under a Bad Sign\",2,\"8 Feb. 2007\",\"S02 EP14\"],[\"Tall Tales\",2,\"15 Feb. 2007\",\"S02 EP15\"],[\"Roadkill\",2,\"15 Mar. 2007\",\"S02 EP16\"],[\"Heart\",2,\"22 Mar. 2007\",\"S02 EP17\"],[\"Hollywood Babylon\",2,\"19 Apr. 2007\",\"S02 EP18\"],[\"Folsom Prison Blues\",2,\"26 Apr. 2007\",\"S02 EP19\"],[\"What Is and What Should Never Be\",2,\"3 May 2007\",\"S02 EP20\"],[\"All Hell Breaks Loose: Part 1\",2,\"10 May 2007\",\"S02 EP21\"],[\"All Hell Breaks Loose: Part 2\",2,\"17 May 2007\",\"S02 EP22\"]],\"hovertemplate\":\"<b>%{hovertext}</b><br><br>Score=%{y}<br>Release date=%{customdata[2]}<br>Episode=%{customdata[3]}<extra></extra>\",\"hovertext\":[\"In My Time of Dying\",\"Everybody Loves a Clown\",\"Bloodlust\",\"Children Shouldn't Play with Dead Things\",\"Simon Said\",\"No Exit\",\"The Usual Suspects\",\"Crossroad Blues\",\"Croatoan\",\"Hunted\",\"Playthings\",\"Nightshifter\",\"Houses of the Holy\",\"Born Under a Bad Sign\",\"Tall Tales\",\"Roadkill\",\"Heart\",\"Hollywood Babylon\",\"Folsom Prison Blues\",\"What Is and What Should Never Be\",\"All Hell Breaks Loose: Part 1\",\"All Hell Breaks Loose: Part 2\"],\"legendgroup\":\"\",\"marker\":{\"color\":[2,2,2,2,2,2,2,2,2,2,2,2,2,2,2,2,2,2,2,2,2,2],\"coloraxis\":\"coloraxis\",\"symbol\":\"circle\"},\"mode\":\"markers\",\"name\":\"\",\"orientation\":\"v\",\"showlegend\":false,\"type\":\"scatter\",\"x\":[1,2,3,4,5,6,7,8,9,10,11,12,13,14,15,16,17,18,19,20,21,22],\"xaxis\":\"x2\",\"y\":[9.3,8.2,8.3,8.0,8.6,8.4,8.7,8.8,8.8,8.5,8.4,9.0,8.1,8.8,9.2,8.9,8.8,8.6,8.7,9.4,9.2,9.5],\"yaxis\":\"y2\"},{\"customdata\":[[\"The Magnificent Seven\",3,\"4 Oct. 2007\",\"S03 EP01\"],[\"The Kids Are Alright\",3,\"11 Oct. 2007\",\"S03 EP02\"],[\"Bad Day at Black Rock\",3,\"18 Oct. 2007\",\"S03 EP03\"],[\"Sin City\",3,\"25 Oct. 2007\",\"S03 EP04\"],[\"Bedtime Stories\",3,\"1 Nov. 2007\",\"S03 EP05\"],[\"Red Sky at Morning\",3,\"8 Nov. 2007\",\"S03 EP06\"],[\"Fresh Blood\",3,\"15 Nov. 2007\",\"S03 EP07\"],[\"A Very Supernatural Christmas\",3,\"13 Dec. 2007\",\"S03 EP08\"],[\"Malleus Maleficarum\",3,\"31 Jan. 2008\",\"S03 EP09\"],[\"Dream a Little Dream of Me\",3,\"7 Feb. 2008\",\"S03 EP10\"],[\"Mystery Spot\",3,\"14 Feb. 2008\",\"S03 EP11\"],[\"Jus in Bello\",3,\"21 Feb. 2008\",\"S03 EP12\"],[\"Ghostfacers\",3,\"24 Apr. 2008\",\"S03 EP13\"],[\"Long Distance Call\",3,\"1 May 2008\",\"S03 EP14\"],[\"Time Is on My Side\",3,\"8 May 2008\",\"S03 EP15\"],[\"No Rest for the Wicked\",3,\"15 May 2008\",\"S03 EP16\"]],\"hovertemplate\":\"<b>%{hovertext}</b><br><br>Score=%{y}<br>Release date=%{customdata[2]}<br>Episode=%{customdata[3]}<extra></extra>\",\"hovertext\":[\"The Magnificent Seven\",\"The Kids Are Alright\",\"Bad Day at Black Rock\",\"Sin City\",\"Bedtime Stories\",\"Red Sky at Morning\",\"Fresh Blood\",\"A Very Supernatural Christmas\",\"Malleus Maleficarum\",\"Dream a Little Dream of Me\",\"Mystery Spot\",\"Jus in Bello\",\"Ghostfacers\",\"Long Distance Call\",\"Time Is on My Side\",\"No Rest for the Wicked\"],\"legendgroup\":\"\",\"marker\":{\"color\":[3,3,3,3,3,3,3,3,3,3,3,3,3,3,3,3],\"coloraxis\":\"coloraxis\",\"symbol\":\"circle\"},\"mode\":\"markers\",\"name\":\"\",\"orientation\":\"v\",\"showlegend\":false,\"type\":\"scatter\",\"x\":[1,2,3,4,5,6,7,8,9,10,11,12,13,14,15,16],\"xaxis\":\"x3\",\"y\":[8.6,8.7,9.3,8.4,8.4,8.1,8.5,8.8,8.5,8.5,9.5,9.4,7.7,8.0,8.5,9.3],\"yaxis\":\"y3\"},{\"customdata\":[[\"Lazarus Rising\",4,\"18 Sep. 2008\",\"S04 EP01\"],[\"Are You There, God? It's Me, Dean Winchester\",4,\"25 Sep. 2008\",\"S04 EP02\"],[\"In the Beginning\",4,\"2 Oct. 2008\",\"S04 EP03\"],[\"Metamorphosis\",4,\"9 Oct. 2008\",\"S04 EP04\"],[\"Monster Movie\",4,\"16 Oct. 2008\",\"S04 EP05\"],[\"Yellow Fever\",4,\"23 Oct. 2008\",\"S04 EP06\"],[\"It's the Great Pumpkin, Sam Winchester\",4,\"30 Oct. 2008\",\"S04 EP07\"],[\"Wishful Thinking\",4,\"6 Nov. 2008\",\"S04 EP08\"],[\"I Know What You Did Last Summer\",4,\"13 Nov. 2008\",\"S04 EP09\"],[\"Heaven and Hell\",4,\"20 Nov. 2008\",\"S04 EP10\"],[\"Family Remains\",4,\"15 Jan. 2009\",\"S04 EP11\"],[\"Criss Angel Is a Douche Bag\",4,\"22 Jan. 2009\",\"S04 EP12\"],[\"After School Special\",4,\"29 Jan. 2009\",\"S04 EP13\"],[\"Sex and Violence\",4,\"5 Feb. 2009\",\"S04 EP14\"],[\"Death Takes a Holiday\",4,\"12 Mar. 2009\",\"S04 EP15\"],[\"On the Head of a Pin\",4,\"19 Mar. 2009\",\"S04 EP16\"],[\"It's a Terrible Life\",4,\"26 Mar. 2009\",\"S04 EP17\"],[\"The Monster at the End of This Book\",4,\"2 Apr. 2009\",\"S04 EP18\"],[\"Jump the Shark\",4,\"23 Apr. 2009\",\"S04 EP19\"],[\"The Rapture\",4,\"30 Apr. 2009\",\"S04 EP20\"],[\"When the Levee Breaks\",4,\"7 May 2009\",\"S04 EP21\"],[\"Lucifer Rising\",4,\"14 May 2009\",\"S04 EP22\"]],\"hovertemplate\":\"<b>%{hovertext}</b><br><br>Score=%{y}<br>Release date=%{customdata[2]}<br>Episode=%{customdata[3]}<extra></extra>\",\"hovertext\":[\"Lazarus Rising\",\"Are You There, God? It's Me, Dean Winchester\",\"In the Beginning\",\"Metamorphosis\",\"Monster Movie\",\"Yellow Fever\",\"It's the Great Pumpkin, Sam Winchester\",\"Wishful Thinking\",\"I Know What You Did Last Summer\",\"Heaven and Hell\",\"Family Remains\",\"Criss Angel Is a Douche Bag\",\"After School Special\",\"Sex and Violence\",\"Death Takes a Holiday\",\"On the Head of a Pin\",\"It's a Terrible Life\",\"The Monster at the End of This Book\",\"Jump the Shark\",\"The Rapture\",\"When the Levee Breaks\",\"Lucifer Rising\"],\"legendgroup\":\"\",\"marker\":{\"color\":[4,4,4,4,4,4,4,4,4,4,4,4,4,4,4,4,4,4,4,4,4,4],\"coloraxis\":\"coloraxis\",\"symbol\":\"circle\"},\"mode\":\"markers\",\"name\":\"\",\"orientation\":\"v\",\"showlegend\":false,\"type\":\"scatter\",\"x\":[1,2,3,4,5,6,7,8,9,10,11,12,13,14,15,16,17,18,19,20,21,22],\"xaxis\":\"x4\",\"y\":[9.4,8.6,9.2,8.1,8.5,9.2,8.5,8.7,8.7,8.9,8.1,8.1,8.8,8.5,8.7,9.1,8.8,9.3,8.3,8.7,8.6,9.3],\"yaxis\":\"y4\"},{\"customdata\":[[\"Sympathy for the Devil\",5,\"10 Sep. 2009\",\"S05 EP01\"],[\"Good God, Y'All\",5,\"17 Sep. 2009\",\"S05 EP02\"],[\"Free to Be You and Me\",5,\"24 Sep. 2009\",\"S05 EP03\"],[\"The End\",5,\"1 Oct. 2009\",\"S05 EP04\"],[\"Fallen Idols\",5,\"8 Oct. 2009\",\"S05 EP05\"],[\"I Believe the Children Are Our Future\",5,\"15 Oct. 2009\",\"S05 EP06\"],[\"The Curious Case of Dean Winchester\",5,\"29 Oct. 2009\",\"S05 EP07\"],[\"Changing Channels\",5,\"5 Nov. 2009\",\"S05 EP08\"],[\"The Real Ghostbusters\",5,\"12 Nov. 2009\",\"S05 EP09\"],[\"Abandon All Hope\",5,\"19 Nov. 2009\",\"S05 EP10\"],[\"Sam, Interrupted\",5,\"21 Jan. 2010\",\"S05 EP11\"],[\"Swap Meat\",5,\"28 Jan. 2010\",\"S05 EP12\"],[\"The Song Remains the Same\",5,\"4 Feb. 2010\",\"S05 EP13\"],[\"My Bloody Valentine\",5,\"11 Feb. 2010\",\"S05 EP14\"],[\"Dead Men Don't Wear Plaid\",5,\"25 Mar. 2010\",\"S05 EP15\"],[\"Dark Side of the Moon\",5,\"1 Apr. 2010\",\"S05 EP16\"],[\"99 Problems\",5,\"8 Apr. 2010\",\"S05 EP17\"],[\"Point of No Return\",5,\"15 Apr. 2010\",\"S05 EP18\"],[\"Hammer of the Gods\",5,\"22 Apr. 2010\",\"S05 EP19\"],[\"The Devil You Know\",5,\"29 Apr. 2010\",\"S05 EP20\"],[\"Two Minutes to Midnight\",5,\"6 May 2010\",\"S05 EP21\"],[\"Swan Song\",5,\"13 May 2010\",\"S05 EP22\"]],\"hovertemplate\":\"<b>%{hovertext}</b><br><br>Score=%{y}<br>Release date=%{customdata[2]}<br>Episode=%{customdata[3]}<extra></extra>\",\"hovertext\":[\"Sympathy for the Devil\",\"Good God, Y'All\",\"Free to Be You and Me\",\"The End\",\"Fallen Idols\",\"I Believe the Children Are Our Future\",\"The Curious Case of Dean Winchester\",\"Changing Channels\",\"The Real Ghostbusters\",\"Abandon All Hope\",\"Sam, Interrupted\",\"Swap Meat\",\"The Song Remains the Same\",\"My Bloody Valentine\",\"Dead Men Don't Wear Plaid\",\"Dark Side of the Moon\",\"99 Problems\",\"Point of No Return\",\"Hammer of the Gods\",\"The Devil You Know\",\"Two Minutes to Midnight\",\"Swan Song\"],\"legendgroup\":\"\",\"marker\":{\"color\":[5,5,5,5,5,5,5,5,5,5,5,5,5,5,5,5,5,5,5,5,5,5],\"coloraxis\":\"coloraxis\",\"symbol\":\"circle\"},\"mode\":\"markers\",\"name\":\"\",\"orientation\":\"v\",\"showlegend\":false,\"type\":\"scatter\",\"x\":[1,2,3,4,5,6,7,8,9,10,11,12,13,14,15,16,17,18,19,20,21,22],\"xaxis\":\"x5\",\"y\":[8.8,8.7,8.6,9.2,8.1,8.6,8.8,9.7,8.9,9.3,8.6,8.3,9.1,8.9,8.6,8.8,8.5,9.0,9.1,8.7,9.3,9.7],\"yaxis\":\"y5\"},{\"customdata\":[[\"Exile on Main St.\",6,\"24 Sep. 2010\",\"S06 EP01\"],[\"Two and a Half Men\",6,\"1 Oct. 2010\",\"S06 EP02\"],[\"The Third Man\",6,\"8 Oct. 2010\",\"S06 EP03\"],[\"Weekend at Bobby's\",6,\"15 Oct. 2010\",\"S06 EP04\"],[\"Live Free or Twihard\",6,\"22 Oct. 2010\",\"S06 EP05\"],[\"You Can't Handle the Truth\",6,\"29 Oct. 2010\",\"S06 EP06\"],[\"Family Matters\",6,\"5 Nov. 2010\",\"S06 EP07\"],[\"All Dogs Go to Heaven\",6,\"12 Nov. 2010\",\"S06 EP08\"],[\"Clap Your Hands If You Believe\",6,\"19 Nov. 2010\",\"S06 EP09\"],[\"Caged Heat\",6,\"3 Dec. 2010\",\"S06 EP10\"],[\"Appointment in Samarra\",6,\"10 Dec. 2010\",\"S06 EP11\"],[\"Like a Virgin\",6,\"4 Feb. 2011\",\"S06 EP12\"],[\"Unforgiven\",6,\"11 Feb. 2011\",\"S06 EP13\"],[\"Mannequin 3: The Reckoning\",6,\"18 Feb. 2011\",\"S06 EP14\"],[\"The French Mistake\",6,\"25 Feb. 2011\",\"S06 EP15\"],[\"And Then There Were None\",6,\"4 Mar. 2011\",\"S06 EP16\"],[\"My Heart Will Go On\",6,\"15 Apr. 2011\",\"S06 EP17\"],[\"Frontierland\",6,\"22 Apr. 2011\",\"S06 EP18\"],[\"Mommy Dearest\",6,\"29 Apr. 2011\",\"S06 EP19\"],[\"The Man Who Would Be King\",6,\"6 May 2011\",\"S06 EP20\"],[\"Let It Bleed\",6,\"20 May 2011\",\"S06 EP21\"],[\"The Man Who Knew Too Much\",6,\"20 May 2011\",\"S06 EP22\"]],\"hovertemplate\":\"<b>%{hovertext}</b><br><br>Score=%{y}<br>Release date=%{customdata[2]}<br>Episode=%{customdata[3]}<extra></extra>\",\"hovertext\":[\"Exile on Main St.\",\"Two and a Half Men\",\"The Third Man\",\"Weekend at Bobby's\",\"Live Free or Twihard\",\"You Can't Handle the Truth\",\"Family Matters\",\"All Dogs Go to Heaven\",\"Clap Your Hands If You Believe\",\"Caged Heat\",\"Appointment in Samarra\",\"Like a Virgin\",\"Unforgiven\",\"Mannequin 3: The Reckoning\",\"The French Mistake\",\"And Then There Were None\",\"My Heart Will Go On\",\"Frontierland\",\"Mommy Dearest\",\"The Man Who Would Be King\",\"Let It Bleed\",\"The Man Who Knew Too Much\"],\"legendgroup\":\"\",\"marker\":{\"color\":[6,6,6,6,6,6,6,6,6,6,6,6,6,6,6,6,6,6,6,6,6,6],\"coloraxis\":\"coloraxis\",\"symbol\":\"circle\"},\"mode\":\"markers\",\"name\":\"\",\"orientation\":\"v\",\"showlegend\":false,\"type\":\"scatter\",\"x\":[1,2,3,4,5,6,7,8,9,10,11,12,13,14,15,16,17,18,19,20,21,22],\"xaxis\":\"x6\",\"y\":[7.8,8.0,8.2,9.2,8.4,8.5,8.1,7.8,8.5,8.6,9.2,8.4,8.1,7.6,9.6,8.4,8.7,9.0,8.6,8.9,8.6,9.0],\"yaxis\":\"y6\"},{\"customdata\":[[\"Meet the New Boss\",7,\"23 Sep. 2011\",\"S07 EP01\"],[\"Hello, Cruel World\",7,\"30 Sep. 2011\",\"S07 EP02\"],[\"The Girl Next Door\",7,\"7 Oct. 2011\",\"S07 EP03\"],[\"Defending Your Life\",7,\"14 Oct. 2011\",\"S07 EP04\"],[\"Shut Up, Dr. Phil\",7,\"21 Oct. 2011\",\"S07 EP05\"],[\"Slash Fiction\",7,\"28 Oct. 2011\",\"S07 EP06\"],[\"The Mentalists\",7,\"4 Nov. 2011\",\"S07 EP07\"],[\"Season Seven, Time for a Wedding!\",7,\"11 Nov. 2011\",\"S07 EP08\"],[\"How to Win Friends and Influence Monsters\",7,\"18 Nov. 2011\",\"S07 EP09\"],[\"Death's Door\",7,\"2 Dec. 2011\",\"S07 EP10\"],[\"Adventures in Babysitting\",7,\"6 Jan. 2012\",\"S07 EP11\"],[\"Time After Time\",7,\"13 Jan. 2012\",\"S07 EP12\"],[\"The Slice Girls\",7,\"3 Feb. 2012\",\"S07 EP13\"],[\"Plucky Pennywhistle's Magical Menagerie\",7,\"10 Feb. 2012\",\"S07 EP14\"],[\"Repo Man\",7,\"17 Feb. 2012\",\"S07 EP15\"],[\"Out with the Old\",7,\"16 Mar. 2012\",\"S07 EP16\"],[\"The Born-Again Identity\",7,\"23 Mar. 2012\",\"S07 EP17\"],[\"Party On, Garth\",7,\"30 Mar. 2012\",\"S07 EP18\"],[\"Of Grave Importance\",7,\"20 Apr. 2012\",\"S07 EP19\"],[\"The Girl with the Dungeons and Dragons Tattoo\",7,\"27 Apr. 2012\",\"S07 EP20\"],[\"Reading is Fundamental\",7,\"4 May 2012\",\"S07 EP21\"],[\"There Will Be Blood\",7,\"11 May 2012\",\"S07 EP22\"],[\"Survival of the Fittest\",7,\"18 May 2012\",\"S07 EP23\"]],\"hovertemplate\":\"<b>%{hovertext}</b><br><br>Score=%{y}<br>Release date=%{customdata[2]}<br>Episode=%{customdata[3]}<extra></extra>\",\"hovertext\":[\"Meet the New Boss\",\"Hello, Cruel World\",\"The Girl Next Door\",\"Defending Your Life\",\"Shut Up, Dr. Phil\",\"Slash Fiction\",\"The Mentalists\",\"Season Seven, Time for a Wedding!\",\"How to Win Friends and Influence Monsters\",\"Death's Door\",\"Adventures in Babysitting\",\"Time After Time\",\"The Slice Girls\",\"Plucky Pennywhistle's Magical Menagerie\",\"Repo Man\",\"Out with the Old\",\"The Born-Again Identity\",\"Party On, Garth\",\"Of Grave Importance\",\"The Girl with the Dungeons and Dragons Tattoo\",\"Reading is Fundamental\",\"There Will Be Blood\",\"Survival of the Fittest\"],\"legendgroup\":\"\",\"marker\":{\"color\":[7,7,7,7,7,7,7,7,7,7,7,7,7,7,7,7,7,7,7,7,7,7,7],\"coloraxis\":\"coloraxis\",\"symbol\":\"circle\"},\"mode\":\"markers\",\"name\":\"\",\"orientation\":\"v\",\"showlegend\":false,\"type\":\"scatter\",\"x\":[1,2,3,4,5,6,7,8,9,10,11,12,13,14,15,16,17,18,19,20,21,22,23],\"xaxis\":\"x7\",\"y\":[9.0,8.5,8.2,8.0,8.2,8.7,8.1,8.0,8.5,9.2,8.1,8.8,8.1,8.2,8.2,8.2,9.0,8.5,8.5,9.1,8.6,8.6,8.8],\"yaxis\":\"y7\"},{\"customdata\":[[\"We Need to Talk About Kevin\",8,\"3 Oct. 2012\",\"S08 EP01\"],[\"What's Up, Tiger Mommy?\",8,\"10 Oct. 2012\",\"S08 EP02\"],[\"Heartache\",8,\"17 Oct. 2012\",\"S08 EP03\"],[\"Bitten\",8,\"24 Oct. 2012\",\"S08 EP04\"],[\"Blood Brother\",8,\"31 Oct. 2012\",\"S08 EP05\"],[\"Southern Comfort\",8,\"7 Nov. 2012\",\"S08 EP06\"],[\"A Little Slice of Kevin\",8,\"14 Nov. 2012\",\"S08 EP07\"],[\"Hunteri Heroici\",8,\"28 Nov. 2012\",\"S08 EP08\"],[\"Citizen Fang\",8,\"5 Dec. 2012\",\"S08 EP09\"],[\"Torn and Frayed\",8,\"16 Jan. 2013\",\"S08 EP10\"],[\"LARP and the Real Girl\",8,\"23 Jan. 2013\",\"S08 EP11\"],[\"As Time Goes By\",8,\"30 Jan. 2013\",\"S08 EP12\"],[\"Everybody Hates Hitler\",8,\"6 Feb. 2013\",\"S08 EP13\"],[\"Trial and Error\",8,\"13 Feb. 2013\",\"S08 EP14\"],[\"Man's Best Friend with Benefits\",8,\"20 Feb. 2013\",\"S08 EP15\"],[\"Remember the Titans\",8,\"27 Feb. 2013\",\"S08 EP16\"],[\"Goodbye Stranger\",8,\"20 Mar. 2013\",\"S08 EP17\"],[\"Freaks and Geeks\",8,\"27 Mar. 2013\",\"S08 EP18\"],[\"Taxi Driver\",8,\"3 Apr. 2013\",\"S08 EP19\"],[\"Pac-Man Fever\",8,\"24 Apr. 2013\",\"S08 EP20\"],[\"The Great Escapist\",8,\"1 May 2013\",\"S08 EP21\"],[\"Clip Show\",8,\"8 May 2013\",\"S08 EP22\"],[\"Sacrifice\",8,\"15 May 2013\",\"S08 EP23\"]],\"hovertemplate\":\"<b>%{hovertext}</b><br><br>Score=%{y}<br>Release date=%{customdata[2]}<br>Episode=%{customdata[3]}<extra></extra>\",\"hovertext\":[\"We Need to Talk About Kevin\",\"What's Up, Tiger Mommy?\",\"Heartache\",\"Bitten\",\"Blood Brother\",\"Southern Comfort\",\"A Little Slice of Kevin\",\"Hunteri Heroici\",\"Citizen Fang\",\"Torn and Frayed\",\"LARP and the Real Girl\",\"As Time Goes By\",\"Everybody Hates Hitler\",\"Trial and Error\",\"Man's Best Friend with Benefits\",\"Remember the Titans\",\"Goodbye Stranger\",\"Freaks and Geeks\",\"Taxi Driver\",\"Pac-Man Fever\",\"The Great Escapist\",\"Clip Show\",\"Sacrifice\"],\"legendgroup\":\"\",\"marker\":{\"color\":[8,8,8,8,8,8,8,8,8,8,8,8,8,8,8,8,8,8,8,8,8,8,8],\"coloraxis\":\"coloraxis\",\"symbol\":\"circle\"},\"mode\":\"markers\",\"name\":\"\",\"orientation\":\"v\",\"showlegend\":false,\"type\":\"scatter\",\"x\":[1,2,3,4,5,6,7,8,9,10,11,12,13,14,15,16,17,18,19,20,21,22,23],\"xaxis\":\"x8\",\"y\":[8.3,8.3,7.7,7.2,8.0,8.0,8.3,8.8,8.2,8.1,8.8,9.1,8.6,8.6,7.4,7.8,8.5,7.5,8.6,8.5,8.5,8.5,9.3],\"yaxis\":\"y8\"},{\"customdata\":[[\"I Think I'm Gonna Like It Here\",9,\"8 Oct. 2013\",\"S09 EP01\"],[\"Devil May Care\",9,\"15 Oct. 2013\",\"S09 EP02\"],[\"I'm No Angel\",9,\"22 Oct. 2013\",\"S09 EP03\"],[\"Slumber Party\",9,\"29 Oct. 2013\",\"S09 EP04\"],[\"Dog Dean Afternoon\",9,\"5 Nov. 2013\",\"S09 EP05\"],[\"Heaven Can't Wait\",9,\"12 Nov. 2013\",\"S09 EP06\"],[\"Bad Boys\",9,\"19 Nov. 2013\",\"S09 EP07\"],[\"Rock and a Hard Place\",9,\"26 Nov. 2013\",\"S09 EP08\"],[\"Holy Terror\",9,\"3 Dec. 2013\",\"S09 EP09\"],[\"Road Trip\",9,\"14 Jan. 2014\",\"S09 EP10\"],[\"First Born\",9,\"21 Jan. 2014\",\"S09 EP11\"],[\"Sharp Teeth\",9,\"28 Jan. 2014\",\"S09 EP12\"],[\"The Purge\",9,\"4 Feb. 2014\",\"S09 EP13\"],[\"Captives\",9,\"25 Feb. 2014\",\"S09 EP14\"],[\"#thinman\",9,\"4 Mar. 2014\",\"S09 EP15\"],[\"Blade Runners\",9,\"18 Mar. 2014\",\"S09 EP16\"],[\"Mother's Little Helper\",9,\"25 Mar. 2014\",\"S09 EP17\"],[\"Meta Fiction\",9,\"15 Apr. 2014\",\"S09 EP18\"],[\"Alex Annie Alexis Ann\",9,\"22 Apr. 2014\",\"S09 EP19\"],[\"Bloodlines\",9,\"29 Apr. 2014\",\"S09 EP20\"],[\"King of the Damned\",9,\"6 May 2014\",\"S09 EP21\"],[\"Stairway to Heaven\",9,\"13 May 2014\",\"S09 EP22\"],[\"Do You Believe in Miracles\",9,\"20 May 2014\",\"S09 EP23\"]],\"hovertemplate\":\"<b>%{hovertext}</b><br><br>Score=%{y}<br>Release date=%{customdata[2]}<br>Episode=%{customdata[3]}<extra></extra>\",\"hovertext\":[\"I Think I'm Gonna Like It Here\",\"Devil May Care\",\"I'm No Angel\",\"Slumber Party\",\"Dog Dean Afternoon\",\"Heaven Can't Wait\",\"Bad Boys\",\"Rock and a Hard Place\",\"Holy Terror\",\"Road Trip\",\"First Born\",\"Sharp Teeth\",\"The Purge\",\"Captives\",\"#thinman\",\"Blade Runners\",\"Mother's Little Helper\",\"Meta Fiction\",\"Alex Annie Alexis Ann\",\"Bloodlines\",\"King of the Damned\",\"Stairway to Heaven\",\"Do You Believe in Miracles\"],\"legendgroup\":\"\",\"marker\":{\"color\":[9,9,9,9,9,9,9,9,9,9,9,9,9,9,9,9,9,9,9,9,9,9,9],\"coloraxis\":\"coloraxis\",\"symbol\":\"circle\"},\"mode\":\"markers\",\"name\":\"\",\"orientation\":\"v\",\"showlegend\":false,\"type\":\"scatter\",\"x\":[1,2,3,4,5,6,7,8,9,10,11,12,13,14,15,16,17,18,19,20,21,22,23],\"xaxis\":\"x9\",\"y\":[8.7,8.4,8.3,8.1,8.6,8.2,8.4,8.0,8.7,8.9,9.2,7.6,7.9,8.1,7.4,8.4,8.6,8.2,7.7,5.9,8.7,8.4,9.3],\"yaxis\":\"y9\"},{\"customdata\":[[\"Black\",10,\"7 Oct. 2014\",\"S10 EP01\"],[\"Reichenbach\",10,\"14 Oct. 2014\",\"S10 EP02\"],[\"Soul Survivor\",10,\"21 Oct. 2014\",\"S10 EP03\"],[\"Paper Moon\",10,\"28 Oct. 2014\",\"S10 EP04\"],[\"Fan Fiction\",10,\"11 Nov. 2014\",\"S10 EP05\"],[\"Ask Jeeves\",10,\"18 Nov. 2014\",\"S10 EP06\"],[\"Girls, Girls, Girls\",10,\"25 Nov. 2014\",\"S10 EP07\"],[\"Hibbing 911\",10,\"2 Dec. 2014\",\"S10 EP08\"],[\"The Things We Left Behind\",10,\"9 Dec. 2014\",\"S10 EP09\"],[\"The Hunter Games\",10,\"20 Jan. 2015\",\"S10 EP10\"],[\"There's No Place Like Home\",10,\"27 Jan. 2015\",\"S10 EP11\"],[\"About a Boy\",10,\"3 Feb. 2015\",\"S10 EP12\"],[\"Halt & Catch Fire\",10,\"10 Feb. 2015\",\"S10 EP13\"],[\"The Executioner's Song\",10,\"17 Feb. 2015\",\"S10 EP14\"],[\"The Things They Carried\",10,\"18 Mar. 2015\",\"S10 EP15\"],[\"Paint It Black\",10,\"25 Mar. 2015\",\"S10 EP16\"],[\"Inside Man\",10,\"1 Apr. 2015\",\"S10 EP17\"],[\"Book of the Damned\",10,\"15 Apr. 2015\",\"S10 EP18\"],[\"The Werther Project\",10,\"22 Apr. 2015\",\"S10 EP19\"],[\"Angel Heart\",10,\"29 Apr. 2015\",\"S10 EP20\"],[\"Dark Dynasty\",10,\"6 May 2015\",\"S10 EP21\"],[\"The Prisoner\",10,\"13 May 2015\",\"S10 EP22\"],[\"Brother's Keeper\",10,\"20 May 2015\",\"S10 EP23\"]],\"hovertemplate\":\"<b>%{hovertext}</b><br><br>Score=%{y}<br>Release date=%{customdata[2]}<br>Episode=%{customdata[3]}<extra></extra>\",\"hovertext\":[\"Black\",\"Reichenbach\",\"Soul Survivor\",\"Paper Moon\",\"Fan Fiction\",\"Ask Jeeves\",\"Girls, Girls, Girls\",\"Hibbing 911\",\"The Things We Left Behind\",\"The Hunter Games\",\"There's No Place Like Home\",\"About a Boy\",\"Halt & Catch Fire\",\"The Executioner's Song\",\"The Things They Carried\",\"Paint It Black\",\"Inside Man\",\"Book of the Damned\",\"The Werther Project\",\"Angel Heart\",\"Dark Dynasty\",\"The Prisoner\",\"Brother's Keeper\"],\"legendgroup\":\"\",\"marker\":{\"color\":[10,10,10,10,10,10,10,10,10,10,10,10,10,10,10,10,10,10,10,10,10,10,10],\"coloraxis\":\"coloraxis\",\"symbol\":\"circle\"},\"mode\":\"markers\",\"name\":\"\",\"orientation\":\"v\",\"showlegend\":false,\"type\":\"scatter\",\"x\":[1,2,3,4,5,6,7,8,9,10,11,12,13,14,15,16,17,18,19,20,21,22,23],\"xaxis\":\"x10\",\"y\":[8.3,8.7,8.4,7.2,9.5,8.1,8.2,8.0,8.1,7.8,8.0,8.7,7.4,8.8,8.0,7.3,8.6,8.8,8.6,8.2,7.3,9.1,9.1],\"yaxis\":\"y10\"},{\"customdata\":[[\"Out of the Darkness, Into the Fire\",11,\"7 Oct. 2015\",\"S11 EP01\"],[\"Form and Void\",11,\"14 Oct. 2015\",\"S11 EP02\"],[\"The Bad Seed\",11,\"21 Oct. 2015\",\"S11 EP03\"],[\"Baby\",11,\"28 Oct. 2015\",\"S11 EP04\"],[\"Thin Lizzie\",11,\"4 Nov. 2015\",\"S11 EP05\"],[\"Our Little World\",11,\"11 Nov. 2015\",\"S11 EP06\"],[\"Plush\",11,\"18 Nov. 2015\",\"S11 EP07\"],[\"Just My Imagination\",11,\"2 Dec. 2015\",\"S11 EP08\"],[\"O Brother, Where Art Thou?\",11,\"9 Dec. 2015\",\"S11 EP09\"],[\"The Devil in the Details\",11,\"20 Jan. 2016\",\"S11 EP10\"],[\"Into the Mystic\",11,\"27 Jan. 2016\",\"S11 EP11\"],[\"Don't You Forget About Me\",11,\"3 Feb. 2016\",\"S11 EP12\"],[\"Love Hurts\",11,\"10 Feb. 2016\",\"S11 EP13\"],[\"The Vessel\",11,\"17 Feb. 2016\",\"S11 EP14\"],[\"Beyond the Mat\",11,\"24 Feb. 2016\",\"S11 EP15\"],[\"Safe House\",11,\"23 Mar. 2016\",\"S11 EP16\"],[\"Red Meat\",11,\"30 Mar. 2016\",\"S11 EP17\"],[\"Hell's Angel\",11,\"6 Apr. 2016\",\"S11 EP18\"],[\"The Chitters\",11,\"27 Apr. 2016\",\"S11 EP19\"],[\"Don't Call Me Shurley\",11,\"4 May 2016\",\"S11 EP20\"],[\"All in the Family\",11,\"11 May 2016\",\"S11 EP21\"],[\"We Happy Few\",11,\"18 May 2016\",\"S11 EP22\"],[\"Alpha and Omega\",11,\"25 May 2016\",\"S11 EP23\"]],\"hovertemplate\":\"<b>%{hovertext}</b><br><br>Score=%{y}<br>Release date=%{customdata[2]}<br>Episode=%{customdata[3]}<extra></extra>\",\"hovertext\":[\"Out of the Darkness, Into the Fire\",\"Form and Void\",\"The Bad Seed\",\"Baby\",\"Thin Lizzie\",\"Our Little World\",\"Plush\",\"Just My Imagination\",\"O Brother, Where Art Thou?\",\"The Devil in the Details\",\"Into the Mystic\",\"Don't You Forget About Me\",\"Love Hurts\",\"The Vessel\",\"Beyond the Mat\",\"Safe House\",\"Red Meat\",\"Hell's Angel\",\"The Chitters\",\"Don't Call Me Shurley\",\"All in the Family\",\"We Happy Few\",\"Alpha and Omega\"],\"legendgroup\":\"\",\"marker\":{\"color\":[11,11,11,11,11,11,11,11,11,11,11,11,11,11,11,11,11,11,11,11,11,11,11],\"coloraxis\":\"coloraxis\",\"symbol\":\"circle\"},\"mode\":\"markers\",\"name\":\"\",\"orientation\":\"v\",\"showlegend\":false,\"type\":\"scatter\",\"x\":[1,2,3,4,5,6,7,8,9,10,11,12,13,14,15,16,17,18,19,20,21,22,23],\"xaxis\":\"x11\",\"y\":[8.6,8.7,8.2,9.5,8.4,8.5,8.2,9.0,9.2,9.1,8.6,8.4,8.1,8.8,7.8,9.0,8.4,8.8,7.7,9.4,8.8,8.8,8.5],\"yaxis\":\"y11\"},{\"customdata\":[[\"Keep Calm and Carry On\",12,\"13 Oct. 2016\",\"S12 EP01\"],[\"Mamma Mia\",12,\"20 Oct. 2016\",\"S12 EP02\"],[\"The Foundry\",12,\"27 Oct. 2016\",\"S12 EP03\"],[\"American Nightmare\",12,\"3 Nov. 2016\",\"S12 EP04\"],[\"The One You've Been Waiting For\",12,\"10 Nov. 2016\",\"S12 EP05\"],[\"Celebrating the Life of Asa Fox\",12,\"17 Nov. 2016\",\"S12 EP06\"],[\"Rock Never Dies\",12,\"1 Dec. 2016\",\"S12 EP07\"],[\"LOTUS\",12,\"8 Dec. 2016\",\"S12 EP08\"],[\"First Blood\",12,\"26 Jan. 2017\",\"S12 EP09\"],[\"Lily Sunder Has Some Regrets\",12,\"2 Feb. 2017\",\"S12 EP10\"],[\"Regarding Dean\",12,\"9 Feb. 2017\",\"S12 EP11\"],[\"Stuck in the Middle (With You)\",12,\"16 Feb. 2017\",\"S12 EP12\"],[\"Family Feud\",12,\"23 Feb. 2017\",\"S12 EP13\"],[\"The Raid\",12,\"2 Mar. 2017\",\"S12 EP14\"],[\"Somewhere Between Heaven and Hell\",12,\"9 Mar. 2017\",\"S12 EP15\"],[\"Ladies Drink Free\",12,\"30 Mar. 2017\",\"S12 EP16\"],[\"The British Invasion\",12,\"6 Apr. 2017\",\"S12 EP17\"],[\"The Memory Remains\",12,\"13 Apr. 2017\",\"S12 EP18\"],[\"The Future\",12,\"27 Apr. 2017\",\"S12 EP19\"],[\"Twigs & Twine & Tasha Banes\",12,\"4 May 2017\",\"S12 EP20\"],[\"There's Something About Mary\",12,\"11 May 2017\",\"S12 EP21\"],[\"Who We Are\",12,\"18 May 2017\",\"S12 EP22\"],[\"All Along the Watchtower\",12,\"18 May 2017\",\"S12 EP23\"]],\"hovertemplate\":\"<b>%{hovertext}</b><br><br>Score=%{y}<br>Release date=%{customdata[2]}<br>Episode=%{customdata[3]}<extra></extra>\",\"hovertext\":[\"Keep Calm and Carry On\",\"Mamma Mia\",\"The Foundry\",\"American Nightmare\",\"The One You've Been Waiting For\",\"Celebrating the Life of Asa Fox\",\"Rock Never Dies\",\"LOTUS\",\"First Blood\",\"Lily Sunder Has Some Regrets\",\"Regarding Dean\",\"Stuck in the Middle (With You)\",\"Family Feud\",\"The Raid\",\"Somewhere Between Heaven and Hell\",\"Ladies Drink Free\",\"The British Invasion\",\"The Memory Remains\",\"The Future\",\"Twigs & Twine & Tasha Banes\",\"There's Something About Mary\",\"Who We Are\",\"All Along the Watchtower\"],\"legendgroup\":\"\",\"marker\":{\"color\":[12,12,12,12,12,12,12,12,12,12,12,12,12,12,12,12,12,12,12,12,12,12,12],\"coloraxis\":\"coloraxis\",\"symbol\":\"circle\"},\"mode\":\"markers\",\"name\":\"\",\"orientation\":\"v\",\"showlegend\":false,\"type\":\"scatter\",\"x\":[1,2,3,4,5,6,7,8,9,10,11,12,13,14,15,16,17,18,19,20,21,22,23],\"xaxis\":\"x12\",\"y\":[8.4,8.2,8.0,8.3,7.6,8.5,7.5,8.1,8.2,8.2,9.0,9.0,7.7,8.5,8.2,8.0,8.2,8.0,8.2,8.1,7.0,9.0,8.9],\"yaxis\":\"y12\"},{\"customdata\":[[\"Lost and Found\",13,\"12 Oct. 2017\",\"S13 EP01\"],[\"The Rising Son\",13,\"19 Oct. 2017\",\"S13 EP02\"],[\"Patience\",13,\"26 Oct. 2017\",\"S13 EP03\"],[\"The Big Empty\",13,\"2 Nov. 2017\",\"S13 EP04\"],[\"Advanced Thanatology\",13,\"9 Nov. 2017\",\"S13 EP05\"],[\"Tombstone\",13,\"16 Nov. 2017\",\"S13 EP06\"],[\"War of the Worlds\",13,\"23 Nov. 2017\",\"S13 EP07\"],[\"The Scorpion and the Frog\",13,\"30 Nov. 2017\",\"S13 EP08\"],[\"The Bad Place\",13,\"7 Dec. 2017\",\"S13 EP09\"],[\"Wayward Sisters\",13,\"18 Jan. 2018\",\"S13 EP10\"],[\"Breakdown\",13,\"25 Jan. 2018\",\"S13 EP11\"],[\"Various & Sundry Villains\",13,\"1 Feb. 2018\",\"S13 EP12\"],[\"Devil's Bargain\",13,\"8 Feb. 2018\",\"S13 EP13\"],[\"Good Intentions\",13,\"1 Mar. 2018\",\"S13 EP14\"],[\"A Most Holy Man\",13,\"8 Mar. 2018\",\"S13 EP15\"],[\"ScoobyNatural\",13,\"29 Mar. 2018\",\"S13 EP16\"],[\"The Thing\",13,\"5 Apr. 2018\",\"S13 EP17\"],[\"Bring 'em Back Alive\",13,\"12 Apr. 2018\",\"S13 EP18\"],[\"Funeralia\",13,\"19 Apr. 2018\",\"S13 EP19\"],[\"Unfinished Business\",13,\"26 Apr. 2018\",\"S13 EP20\"],[\"Beat the Devil\",13,\"3 May 2018\",\"S13 EP21\"],[\"Exodus\",13,\"10 May 2018\",\"S13 EP22\"],[\"Let the Good Times Roll\",13,\"17 May 2018\",\"S13 EP23\"]],\"hovertemplate\":\"<b>%{hovertext}</b><br><br>Score=%{y}<br>Release date=%{customdata[2]}<br>Episode=%{customdata[3]}<extra></extra>\",\"hovertext\":[\"Lost and Found\",\"The Rising Son\",\"Patience\",\"The Big Empty\",\"Advanced Thanatology\",\"Tombstone\",\"War of the Worlds\",\"The Scorpion and the Frog\",\"The Bad Place\",\"Wayward Sisters\",\"Breakdown\",\"Various & Sundry Villains\",\"Devil's Bargain\",\"Good Intentions\",\"A Most Holy Man\",\"ScoobyNatural\",\"The Thing\",\"Bring 'em Back Alive\",\"Funeralia\",\"Unfinished Business\",\"Beat the Devil\",\"Exodus\",\"Let the Good Times Roll\"],\"legendgroup\":\"\",\"marker\":{\"color\":[13,13,13,13,13,13,13,13,13,13,13,13,13,13,13,13,13,13,13,13,13,13,13],\"coloraxis\":\"coloraxis\",\"symbol\":\"circle\"},\"mode\":\"markers\",\"name\":\"\",\"orientation\":\"v\",\"showlegend\":false,\"type\":\"scatter\",\"x\":[1,2,3,4,5,6,7,8,9,10,11,12,13,14,15,16,17,18,19,20,21,22,23],\"xaxis\":\"x13\",\"y\":[8.8,8.5,8.2,8.6,8.7,8.3,8.5,8.4,8.9,8.3,8.3,8.2,8.3,8.3,8.1,9.6,8.4,8.6,8.2,8.1,8.9,8.3,8.6],\"yaxis\":\"y13\"},{\"customdata\":[[\"Stranger in a Strange Land\",14,\"11 Oct. 2018\",\"S14 EP01\"],[\"Gods and Monsters\",14,\"18 Oct. 2018\",\"S14 EP02\"],[\"The Scar\",14,\"25 Oct. 2018\",\"S14 EP03\"],[\"Mint Condition\",14,\"1 Nov. 2018\",\"S14 EP04\"],[\"Nightmare Logic\",14,\"8 Nov. 2018\",\"S14 EP05\"],[\"Optimism\",14,\"15 Nov. 2018\",\"S14 EP06\"],[\"Unhuman Nature\",14,\"29 Nov. 2018\",\"S14 EP07\"],[\"Byzantium\",14,\"6 Dec. 2018\",\"S14 EP08\"],[\"The Spear\",14,\"13 Dec. 2018\",\"S14 EP09\"],[\"Nihilism\",14,\"17 Jan. 2019\",\"S14 EP10\"],[\"Damaged Goods\",14,\"24 Jan. 2019\",\"S14 EP11\"],[\"Prophet and Loss\",14,\"31 Jan. 2019\",\"S14 EP12\"],[\"Lebanon\",14,\"7 Feb. 2019\",\"S14 EP13\"],[\"Ouroboros\",14,\"7 Mar. 2019\",\"S14 EP14\"],[\"Peace of Mind\",14,\"14 Mar. 2019\",\"S14 EP15\"],[\"Don't Go in the Woods\",14,\"21 Mar. 2019\",\"S14 EP16\"],[\"Game Night\",14,\"4 Apr. 2019\",\"S14 EP17\"],[\"Absence\",14,\"11 Apr. 2019\",\"S14 EP18\"],[\"Jack in the Box\",14,\"18 Apr. 2019\",\"S14 EP19\"],[\"Moriah\",14,\"25 Apr. 2019\",\"S14 EP20\"]],\"hovertemplate\":\"<b>%{hovertext}</b><br><br>Score=%{y}<br>Release date=%{customdata[2]}<br>Episode=%{customdata[3]}<extra></extra>\",\"hovertext\":[\"Stranger in a Strange Land\",\"Gods and Monsters\",\"The Scar\",\"Mint Condition\",\"Nightmare Logic\",\"Optimism\",\"Unhuman Nature\",\"Byzantium\",\"The Spear\",\"Nihilism\",\"Damaged Goods\",\"Prophet and Loss\",\"Lebanon\",\"Ouroboros\",\"Peace of Mind\",\"Don't Go in the Woods\",\"Game Night\",\"Absence\",\"Jack in the Box\",\"Moriah\"],\"legendgroup\":\"\",\"marker\":{\"color\":[14,14,14,14,14,14,14,14,14,14,14,14,14,14,14,14,14,14,14,14],\"coloraxis\":\"coloraxis\",\"symbol\":\"circle\"},\"mode\":\"markers\",\"name\":\"\",\"orientation\":\"v\",\"showlegend\":false,\"type\":\"scatter\",\"x\":[1,2,3,4,5,6,7,8,9,10,11,12,13,14,15,16,17,18,19,20],\"xaxis\":\"x14\",\"y\":[8.1,8.0,7.9,8.8,8.0,8.0,8.2,8.5,8.2,8.7,8.2,8.2,9.3,8.6,8.6,8.0,7.8,7.8,8.1,9.3],\"yaxis\":\"y14\"},{\"customdata\":[[\"Back and to the Future\",15,\"10 Oct. 2019\",\"S15 EP01\"],[\"Raising Hell\",15,\"17 Oct. 2019\",\"S15 EP02\"],[\"The Rupture\",15,\"24 Oct. 2019\",\"S15 EP03\"],[\"Atomic Monsters\",15,\"7 Nov. 2019\",\"S15 EP04\"],[\"Proverbs 17:3\",15,\"14 Nov. 2019\",\"S15 EP05\"],[\"Golden Time\",15,\"21 Nov. 2019\",\"S15 EP06\"],[\"Last Call\",15,\"5 Dec. 2019\",\"S15 EP07\"],[\"Our Father, Who Aren't in Heaven\",15,\"12 Dec. 2019\",\"S15 EP08\"],[\"The Trap\",15,\"16 Jan. 2020\",\"S15 EP09\"],[\"The Heroes' Journey\",15,\"23 Jan. 2020\",\"S15 EP10\"],[\"The Gamblers\",15,\"30 Jan. 2020\",\"S15 EP11\"],[\"Galaxy Brain\",15,\"16 Mar. 2020\",\"S15 EP12\"],[\"Destiny's Child\",15,\"23 Mar. 2020\",\"S15 EP13\"],[\"Last Holiday\",15,\"8 Oct. 2020\",\"S15 EP14\"],[\"Gimme Shelter\",15,\"15 Oct. 2020\",\"S15 EP15\"],[\"Drag Me Away (From You)\",15,\"22 Oct. 2020\",\"S15 EP16\"],[\"Unity\",15,\"29 Oct. 2020\",\"S15 EP17\"],[\"Despair\",15,\"5 Nov. 2020\",\"S15 EP18\"],[\"Inherit the Earth\",15,\"12 Nov. 2020\",\"S15 EP19\"],[\"Carry On\",15,\"19 Nov. 2020\",\"S15 EP20\"]],\"hovertemplate\":\"<b>%{hovertext}</b><br><br>Score=%{y}<br>Release date=%{customdata[2]}<br>Episode=%{customdata[3]}<extra></extra>\",\"hovertext\":[\"Back and to the Future\",\"Raising Hell\",\"The Rupture\",\"Atomic Monsters\",\"Proverbs 17:3\",\"Golden Time\",\"Last Call\",\"Our Father, Who Aren't in Heaven\",\"The Trap\",\"The Heroes' Journey\",\"The Gamblers\",\"Galaxy Brain\",\"Destiny's Child\",\"Last Holiday\",\"Gimme Shelter\",\"Drag Me Away (From You)\",\"Unity\",\"Despair\",\"Inherit the Earth\",\"Carry On\"],\"legendgroup\":\"\",\"marker\":{\"color\":[15,15,15,15,15,15,15,15,15,15,15,15,15,15,15,15,15,15,15,15],\"coloraxis\":\"coloraxis\",\"symbol\":\"circle\"},\"mode\":\"markers\",\"name\":\"\",\"orientation\":\"v\",\"showlegend\":false,\"type\":\"scatter\",\"x\":[1,2,3,4,5,6,7,8,9,10,11,12,13,14,15,16,17,18,19,20],\"xaxis\":\"x15\",\"y\":[8.3,7.5,8.5,8.5,8.7,8.3,8.4,8.7,8.4,8.2,8.4,7.6,8.4,8.7,7.7,7.3,8.5,8.6,8.1,6.2],\"yaxis\":\"y15\"}],                        {\"annotations\":[{\"font\":{},\"showarrow\":false,\"text\":\"Season 1\",\"x\":0.030999999999999996,\"xanchor\":\"center\",\"xref\":\"paper\",\"y\":1.0,\"yanchor\":\"bottom\",\"yref\":\"paper\"},{\"font\":{},\"showarrow\":false,\"text\":\"Season 2\",\"x\":0.09799999999999998,\"xanchor\":\"center\",\"xref\":\"paper\",\"y\":1.0,\"yanchor\":\"bottom\",\"yref\":\"paper\"},{\"font\":{},\"showarrow\":false,\"text\":\"Season 3\",\"x\":0.16499999999999998,\"xanchor\":\"center\",\"xref\":\"paper\",\"y\":1.0,\"yanchor\":\"bottom\",\"yref\":\"paper\"},{\"font\":{},\"showarrow\":false,\"text\":\"Season 4\",\"x\":0.23199999999999996,\"xanchor\":\"center\",\"xref\":\"paper\",\"y\":1.0,\"yanchor\":\"bottom\",\"yref\":\"paper\"},{\"font\":{},\"showarrow\":false,\"text\":\"Season 5\",\"x\":0.29899999999999993,\"xanchor\":\"center\",\"xref\":\"paper\",\"y\":1.0,\"yanchor\":\"bottom\",\"yref\":\"paper\"},{\"font\":{},\"showarrow\":false,\"text\":\"Season 6\",\"x\":0.366,\"xanchor\":\"center\",\"xref\":\"paper\",\"y\":1.0,\"yanchor\":\"bottom\",\"yref\":\"paper\"},{\"font\":{},\"showarrow\":false,\"text\":\"Season 7\",\"x\":0.43299999999999994,\"xanchor\":\"center\",\"xref\":\"paper\",\"y\":1.0,\"yanchor\":\"bottom\",\"yref\":\"paper\"},{\"font\":{},\"showarrow\":false,\"text\":\"Season 8\",\"x\":0.49999999999999994,\"xanchor\":\"center\",\"xref\":\"paper\",\"y\":1.0,\"yanchor\":\"bottom\",\"yref\":\"paper\"},{\"font\":{},\"showarrow\":false,\"text\":\"Season 9\",\"x\":0.567,\"xanchor\":\"center\",\"xref\":\"paper\",\"y\":1.0,\"yanchor\":\"bottom\",\"yref\":\"paper\"},{\"font\":{},\"showarrow\":false,\"text\":\"Season 10\",\"x\":0.6339999999999999,\"xanchor\":\"center\",\"xref\":\"paper\",\"y\":1.0,\"yanchor\":\"bottom\",\"yref\":\"paper\"},{\"font\":{},\"showarrow\":false,\"text\":\"Season 11\",\"x\":0.7009999999999998,\"xanchor\":\"center\",\"xref\":\"paper\",\"y\":1.0,\"yanchor\":\"bottom\",\"yref\":\"paper\"},{\"font\":{},\"showarrow\":false,\"text\":\"Season 12\",\"x\":0.7679999999999998,\"xanchor\":\"center\",\"xref\":\"paper\",\"y\":1.0,\"yanchor\":\"bottom\",\"yref\":\"paper\"},{\"font\":{},\"showarrow\":false,\"text\":\"Season 13\",\"x\":0.8349999999999997,\"xanchor\":\"center\",\"xref\":\"paper\",\"y\":1.0,\"yanchor\":\"bottom\",\"yref\":\"paper\"},{\"font\":{},\"showarrow\":false,\"text\":\"Season 14\",\"x\":0.9019999999999997,\"xanchor\":\"center\",\"xref\":\"paper\",\"y\":1.0,\"yanchor\":\"bottom\",\"yref\":\"paper\"},{\"font\":{},\"showarrow\":false,\"text\":\"Season 15\",\"x\":0.9689999999999996,\"xanchor\":\"center\",\"xref\":\"paper\",\"y\":1.0,\"yanchor\":\"bottom\",\"yref\":\"paper\"}],\"coloraxis\":{\"colorbar\":{\"title\":{\"text\":\"Season\"}},\"colorscale\":[[0.0,\"rgb(0,0,255)\"],[1.0,\"rgb(255,0,0)\"]],\"showscale\":false},\"legend\":{\"tracegroupgap\":0},\"template\":{\"data\":{\"bar\":[{\"error_x\":{\"color\":\"#2a3f5f\"},\"error_y\":{\"color\":\"#2a3f5f\"},\"marker\":{\"line\":{\"color\":\"#E5ECF6\",\"width\":0.5},\"pattern\":{\"fillmode\":\"overlay\",\"size\":10,\"solidity\":0.2}},\"type\":\"bar\"}],\"barpolar\":[{\"marker\":{\"line\":{\"color\":\"#E5ECF6\",\"width\":0.5},\"pattern\":{\"fillmode\":\"overlay\",\"size\":10,\"solidity\":0.2}},\"type\":\"barpolar\"}],\"carpet\":[{\"aaxis\":{\"endlinecolor\":\"#2a3f5f\",\"gridcolor\":\"white\",\"linecolor\":\"white\",\"minorgridcolor\":\"white\",\"startlinecolor\":\"#2a3f5f\"},\"baxis\":{\"endlinecolor\":\"#2a3f5f\",\"gridcolor\":\"white\",\"linecolor\":\"white\",\"minorgridcolor\":\"white\",\"startlinecolor\":\"#2a3f5f\"},\"type\":\"carpet\"}],\"choropleth\":[{\"colorbar\":{\"outlinewidth\":0,\"ticks\":\"\"},\"type\":\"choropleth\"}],\"contour\":[{\"colorbar\":{\"outlinewidth\":0,\"ticks\":\"\"},\"colorscale\":[[0.0,\"#0d0887\"],[0.1111111111111111,\"#46039f\"],[0.2222222222222222,\"#7201a8\"],[0.3333333333333333,\"#9c179e\"],[0.4444444444444444,\"#bd3786\"],[0.5555555555555556,\"#d8576b\"],[0.6666666666666666,\"#ed7953\"],[0.7777777777777778,\"#fb9f3a\"],[0.8888888888888888,\"#fdca26\"],[1.0,\"#f0f921\"]],\"type\":\"contour\"}],\"contourcarpet\":[{\"colorbar\":{\"outlinewidth\":0,\"ticks\":\"\"},\"type\":\"contourcarpet\"}],\"heatmap\":[{\"colorbar\":{\"outlinewidth\":0,\"ticks\":\"\"},\"colorscale\":[[0.0,\"#0d0887\"],[0.1111111111111111,\"#46039f\"],[0.2222222222222222,\"#7201a8\"],[0.3333333333333333,\"#9c179e\"],[0.4444444444444444,\"#bd3786\"],[0.5555555555555556,\"#d8576b\"],[0.6666666666666666,\"#ed7953\"],[0.7777777777777778,\"#fb9f3a\"],[0.8888888888888888,\"#fdca26\"],[1.0,\"#f0f921\"]],\"type\":\"heatmap\"}],\"heatmapgl\":[{\"colorbar\":{\"outlinewidth\":0,\"ticks\":\"\"},\"colorscale\":[[0.0,\"#0d0887\"],[0.1111111111111111,\"#46039f\"],[0.2222222222222222,\"#7201a8\"],[0.3333333333333333,\"#9c179e\"],[0.4444444444444444,\"#bd3786\"],[0.5555555555555556,\"#d8576b\"],[0.6666666666666666,\"#ed7953\"],[0.7777777777777778,\"#fb9f3a\"],[0.8888888888888888,\"#fdca26\"],[1.0,\"#f0f921\"]],\"type\":\"heatmapgl\"}],\"histogram\":[{\"marker\":{\"pattern\":{\"fillmode\":\"overlay\",\"size\":10,\"solidity\":0.2}},\"type\":\"histogram\"}],\"histogram2d\":[{\"colorbar\":{\"outlinewidth\":0,\"ticks\":\"\"},\"colorscale\":[[0.0,\"#0d0887\"],[0.1111111111111111,\"#46039f\"],[0.2222222222222222,\"#7201a8\"],[0.3333333333333333,\"#9c179e\"],[0.4444444444444444,\"#bd3786\"],[0.5555555555555556,\"#d8576b\"],[0.6666666666666666,\"#ed7953\"],[0.7777777777777778,\"#fb9f3a\"],[0.8888888888888888,\"#fdca26\"],[1.0,\"#f0f921\"]],\"type\":\"histogram2d\"}],\"histogram2dcontour\":[{\"colorbar\":{\"outlinewidth\":0,\"ticks\":\"\"},\"colorscale\":[[0.0,\"#0d0887\"],[0.1111111111111111,\"#46039f\"],[0.2222222222222222,\"#7201a8\"],[0.3333333333333333,\"#9c179e\"],[0.4444444444444444,\"#bd3786\"],[0.5555555555555556,\"#d8576b\"],[0.6666666666666666,\"#ed7953\"],[0.7777777777777778,\"#fb9f3a\"],[0.8888888888888888,\"#fdca26\"],[1.0,\"#f0f921\"]],\"type\":\"histogram2dcontour\"}],\"mesh3d\":[{\"colorbar\":{\"outlinewidth\":0,\"ticks\":\"\"},\"type\":\"mesh3d\"}],\"parcoords\":[{\"line\":{\"colorbar\":{\"outlinewidth\":0,\"ticks\":\"\"}},\"type\":\"parcoords\"}],\"pie\":[{\"automargin\":true,\"type\":\"pie\"}],\"scatter\":[{\"marker\":{\"colorbar\":{\"outlinewidth\":0,\"ticks\":\"\"}},\"type\":\"scatter\"}],\"scatter3d\":[{\"line\":{\"colorbar\":{\"outlinewidth\":0,\"ticks\":\"\"}},\"marker\":{\"colorbar\":{\"outlinewidth\":0,\"ticks\":\"\"}},\"type\":\"scatter3d\"}],\"scattercarpet\":[{\"marker\":{\"colorbar\":{\"outlinewidth\":0,\"ticks\":\"\"}},\"type\":\"scattercarpet\"}],\"scattergeo\":[{\"marker\":{\"colorbar\":{\"outlinewidth\":0,\"ticks\":\"\"}},\"type\":\"scattergeo\"}],\"scattergl\":[{\"marker\":{\"colorbar\":{\"outlinewidth\":0,\"ticks\":\"\"}},\"type\":\"scattergl\"}],\"scattermapbox\":[{\"marker\":{\"colorbar\":{\"outlinewidth\":0,\"ticks\":\"\"}},\"type\":\"scattermapbox\"}],\"scatterpolar\":[{\"marker\":{\"colorbar\":{\"outlinewidth\":0,\"ticks\":\"\"}},\"type\":\"scatterpolar\"}],\"scatterpolargl\":[{\"marker\":{\"colorbar\":{\"outlinewidth\":0,\"ticks\":\"\"}},\"type\":\"scatterpolargl\"}],\"scatterternary\":[{\"marker\":{\"colorbar\":{\"outlinewidth\":0,\"ticks\":\"\"}},\"type\":\"scatterternary\"}],\"surface\":[{\"colorbar\":{\"outlinewidth\":0,\"ticks\":\"\"},\"colorscale\":[[0.0,\"#0d0887\"],[0.1111111111111111,\"#46039f\"],[0.2222222222222222,\"#7201a8\"],[0.3333333333333333,\"#9c179e\"],[0.4444444444444444,\"#bd3786\"],[0.5555555555555556,\"#d8576b\"],[0.6666666666666666,\"#ed7953\"],[0.7777777777777778,\"#fb9f3a\"],[0.8888888888888888,\"#fdca26\"],[1.0,\"#f0f921\"]],\"type\":\"surface\"}],\"table\":[{\"cells\":{\"fill\":{\"color\":\"#EBF0F8\"},\"line\":{\"color\":\"white\"}},\"header\":{\"fill\":{\"color\":\"#C8D4E3\"},\"line\":{\"color\":\"white\"}},\"type\":\"table\"}]},\"layout\":{\"annotationdefaults\":{\"arrowcolor\":\"#2a3f5f\",\"arrowhead\":0,\"arrowwidth\":1},\"autotypenumbers\":\"strict\",\"coloraxis\":{\"colorbar\":{\"outlinewidth\":0,\"ticks\":\"\"}},\"colorscale\":{\"diverging\":[[0,\"#8e0152\"],[0.1,\"#c51b7d\"],[0.2,\"#de77ae\"],[0.3,\"#f1b6da\"],[0.4,\"#fde0ef\"],[0.5,\"#f7f7f7\"],[0.6,\"#e6f5d0\"],[0.7,\"#b8e186\"],[0.8,\"#7fbc41\"],[0.9,\"#4d9221\"],[1,\"#276419\"]],\"sequential\":[[0.0,\"#0d0887\"],[0.1111111111111111,\"#46039f\"],[0.2222222222222222,\"#7201a8\"],[0.3333333333333333,\"#9c179e\"],[0.4444444444444444,\"#bd3786\"],[0.5555555555555556,\"#d8576b\"],[0.6666666666666666,\"#ed7953\"],[0.7777777777777778,\"#fb9f3a\"],[0.8888888888888888,\"#fdca26\"],[1.0,\"#f0f921\"]],\"sequentialminus\":[[0.0,\"#0d0887\"],[0.1111111111111111,\"#46039f\"],[0.2222222222222222,\"#7201a8\"],[0.3333333333333333,\"#9c179e\"],[0.4444444444444444,\"#bd3786\"],[0.5555555555555556,\"#d8576b\"],[0.6666666666666666,\"#ed7953\"],[0.7777777777777778,\"#fb9f3a\"],[0.8888888888888888,\"#fdca26\"],[1.0,\"#f0f921\"]]},\"colorway\":[\"#636efa\",\"#EF553B\",\"#00cc96\",\"#ab63fa\",\"#FFA15A\",\"#19d3f3\",\"#FF6692\",\"#B6E880\",\"#FF97FF\",\"#FECB52\"],\"font\":{\"color\":\"#2a3f5f\"},\"geo\":{\"bgcolor\":\"white\",\"lakecolor\":\"white\",\"landcolor\":\"#E5ECF6\",\"showlakes\":true,\"showland\":true,\"subunitcolor\":\"white\"},\"hoverlabel\":{\"align\":\"left\"},\"hovermode\":\"closest\",\"mapbox\":{\"style\":\"light\"},\"paper_bgcolor\":\"white\",\"plot_bgcolor\":\"#E5ECF6\",\"polar\":{\"angularaxis\":{\"gridcolor\":\"white\",\"linecolor\":\"white\",\"ticks\":\"\"},\"bgcolor\":\"#E5ECF6\",\"radialaxis\":{\"gridcolor\":\"white\",\"linecolor\":\"white\",\"ticks\":\"\"}},\"scene\":{\"xaxis\":{\"backgroundcolor\":\"#E5ECF6\",\"gridcolor\":\"white\",\"gridwidth\":2,\"linecolor\":\"white\",\"showbackground\":true,\"ticks\":\"\",\"zerolinecolor\":\"white\"},\"yaxis\":{\"backgroundcolor\":\"#E5ECF6\",\"gridcolor\":\"white\",\"gridwidth\":2,\"linecolor\":\"white\",\"showbackground\":true,\"ticks\":\"\",\"zerolinecolor\":\"white\"},\"zaxis\":{\"backgroundcolor\":\"#E5ECF6\",\"gridcolor\":\"white\",\"gridwidth\":2,\"linecolor\":\"white\",\"showbackground\":true,\"ticks\":\"\",\"zerolinecolor\":\"white\"}},\"shapedefaults\":{\"line\":{\"color\":\"#2a3f5f\"}},\"ternary\":{\"aaxis\":{\"gridcolor\":\"white\",\"linecolor\":\"white\",\"ticks\":\"\"},\"baxis\":{\"gridcolor\":\"white\",\"linecolor\":\"white\",\"ticks\":\"\"},\"bgcolor\":\"#E5ECF6\",\"caxis\":{\"gridcolor\":\"white\",\"linecolor\":\"white\",\"ticks\":\"\"}},\"title\":{\"x\":0.05},\"xaxis\":{\"automargin\":true,\"gridcolor\":\"white\",\"linecolor\":\"white\",\"ticks\":\"\",\"title\":{\"standoff\":15},\"zerolinecolor\":\"white\",\"zerolinewidth\":2},\"yaxis\":{\"automargin\":true,\"gridcolor\":\"white\",\"linecolor\":\"white\",\"ticks\":\"\",\"title\":{\"standoff\":15},\"zerolinecolor\":\"white\",\"zerolinewidth\":2}}},\"title\":{\"text\":\"Supernatural episodes ratings by IMDb\",\"x\":0.5,\"xanchor\":\"center\",\"y\":0.9,\"yanchor\":\"top\"},\"xaxis\":{\"anchor\":\"y\",\"domain\":[0.0,0.06199999999999999],\"showgrid\":false,\"showticklabels\":false,\"title\":{\"text\":\"\"},\"zeroline\":false},\"xaxis10\":{\"anchor\":\"y10\",\"domain\":[0.603,0.6649999999999999],\"showgrid\":false,\"showticklabels\":false,\"title\":{\"text\":\"\"},\"zeroline\":false},\"xaxis11\":{\"anchor\":\"y11\",\"domain\":[0.6699999999999999,0.7319999999999999],\"showgrid\":false,\"showticklabels\":false,\"title\":{\"text\":\"\"},\"zeroline\":false},\"xaxis12\":{\"anchor\":\"y12\",\"domain\":[0.7369999999999999,0.7989999999999998],\"showgrid\":false,\"showticklabels\":false,\"title\":{\"text\":\"\"},\"zeroline\":false},\"xaxis13\":{\"anchor\":\"y13\",\"domain\":[0.8039999999999998,0.8659999999999998],\"showgrid\":false,\"showticklabels\":false,\"title\":{\"text\":\"\"},\"zeroline\":false},\"xaxis14\":{\"anchor\":\"y14\",\"domain\":[0.8709999999999998,0.9329999999999997],\"showgrid\":false,\"showticklabels\":false,\"title\":{\"text\":\"\"},\"zeroline\":false},\"xaxis15\":{\"anchor\":\"y15\",\"domain\":[0.9379999999999997,0.9999999999999997],\"showgrid\":false,\"showticklabels\":false,\"title\":{\"text\":\"\"},\"zeroline\":false},\"xaxis2\":{\"anchor\":\"y2\",\"domain\":[0.06699999999999999,0.12899999999999998],\"showgrid\":false,\"showticklabels\":false,\"title\":{\"text\":\"\"},\"zeroline\":false},\"xaxis3\":{\"anchor\":\"y3\",\"domain\":[0.13399999999999998,0.19599999999999998],\"showgrid\":false,\"showticklabels\":false,\"title\":{\"text\":\"\"},\"zeroline\":false},\"xaxis4\":{\"anchor\":\"y4\",\"domain\":[0.20099999999999996,0.26299999999999996],\"showgrid\":false,\"showticklabels\":false,\"title\":{\"text\":\"\"},\"zeroline\":false},\"xaxis5\":{\"anchor\":\"y5\",\"domain\":[0.26799999999999996,0.32999999999999996],\"showgrid\":false,\"showticklabels\":false,\"title\":{\"text\":\"\"},\"zeroline\":false},\"xaxis6\":{\"anchor\":\"y6\",\"domain\":[0.33499999999999996,0.39699999999999996],\"showgrid\":false,\"showticklabels\":false,\"title\":{\"text\":\"\"},\"zeroline\":false},\"xaxis7\":{\"anchor\":\"y7\",\"domain\":[0.4019999999999999,0.4639999999999999],\"showgrid\":false,\"showticklabels\":false,\"title\":{\"text\":\"\"},\"zeroline\":false},\"xaxis8\":{\"anchor\":\"y8\",\"domain\":[0.469,0.5309999999999999],\"showgrid\":false,\"showticklabels\":false,\"title\":{\"text\":\"\"},\"zeroline\":false},\"xaxis9\":{\"anchor\":\"y9\",\"domain\":[0.5359999999999999,0.5979999999999999],\"showgrid\":false,\"showticklabels\":false,\"title\":{\"text\":\"\"},\"zeroline\":false},\"yaxis\":{\"anchor\":\"x\",\"domain\":[0.0,1.0],\"dtick\":1.5,\"tick0\":6.5,\"title\":{\"text\":\"Ratings\"}},\"yaxis10\":{\"anchor\":\"x10\",\"domain\":[0.0,1.0],\"dtick\":1.5,\"matches\":\"y\",\"showticklabels\":false,\"tick0\":6.5},\"yaxis11\":{\"anchor\":\"x11\",\"domain\":[0.0,1.0],\"dtick\":1.5,\"matches\":\"y\",\"showticklabels\":false,\"tick0\":6.5},\"yaxis12\":{\"anchor\":\"x12\",\"domain\":[0.0,1.0],\"dtick\":1.5,\"matches\":\"y\",\"showticklabels\":false,\"tick0\":6.5},\"yaxis13\":{\"anchor\":\"x13\",\"domain\":[0.0,1.0],\"dtick\":1.5,\"matches\":\"y\",\"showticklabels\":false,\"tick0\":6.5},\"yaxis14\":{\"anchor\":\"x14\",\"domain\":[0.0,1.0],\"dtick\":1.5,\"matches\":\"y\",\"showticklabels\":false,\"tick0\":6.5},\"yaxis15\":{\"anchor\":\"x15\",\"domain\":[0.0,1.0],\"dtick\":1.5,\"matches\":\"y\",\"showticklabels\":false,\"tick0\":6.5},\"yaxis2\":{\"anchor\":\"x2\",\"domain\":[0.0,1.0],\"dtick\":1.5,\"matches\":\"y\",\"showticklabels\":false,\"tick0\":6.5},\"yaxis3\":{\"anchor\":\"x3\",\"domain\":[0.0,1.0],\"dtick\":1.5,\"matches\":\"y\",\"showticklabels\":false,\"tick0\":6.5},\"yaxis4\":{\"anchor\":\"x4\",\"domain\":[0.0,1.0],\"dtick\":1.5,\"matches\":\"y\",\"showticklabels\":false,\"tick0\":6.5},\"yaxis5\":{\"anchor\":\"x5\",\"domain\":[0.0,1.0],\"dtick\":1.5,\"matches\":\"y\",\"showticklabels\":false,\"tick0\":6.5},\"yaxis6\":{\"anchor\":\"x6\",\"domain\":[0.0,1.0],\"dtick\":1.5,\"matches\":\"y\",\"showticklabels\":false,\"tick0\":6.5},\"yaxis7\":{\"anchor\":\"x7\",\"domain\":[0.0,1.0],\"dtick\":1.5,\"matches\":\"y\",\"showticklabels\":false,\"tick0\":6.5},\"yaxis8\":{\"anchor\":\"x8\",\"domain\":[0.0,1.0],\"dtick\":1.5,\"matches\":\"y\",\"showticklabels\":false,\"tick0\":6.5},\"yaxis9\":{\"anchor\":\"x9\",\"domain\":[0.0,1.0],\"dtick\":1.5,\"matches\":\"y\",\"showticklabels\":false,\"tick0\":6.5}},                        {\"responsive\": true}                    ).then(function(){\n",
       "                            \n",
       "var gd = document.getElementById('eae38100-103c-4961-8d71-901d687b85b1');\n",
       "var x = new MutationObserver(function (mutations, observer) {{\n",
       "        var display = window.getComputedStyle(gd).display;\n",
       "        if (!display || display === 'none') {{\n",
       "            console.log([gd, 'removed!']);\n",
       "            Plotly.purge(gd);\n",
       "            observer.disconnect();\n",
       "        }}\n",
       "}});\n",
       "\n",
       "// Listen for the removal of the full notebook cells\n",
       "var notebookContainer = gd.closest('#notebook-container');\n",
       "if (notebookContainer) {{\n",
       "    x.observe(notebookContainer, {childList: true});\n",
       "}}\n",
       "\n",
       "// Listen for the clearing of the current output cell\n",
       "var outputEl = gd.closest('.output');\n",
       "if (outputEl) {{\n",
       "    x.observe(outputEl, {childList: true});\n",
       "}}\n",
       "\n",
       "                        })                };                });            </script>        </div>"
      ]
     },
     "metadata": {},
     "output_type": "display_data"
    }
   ],
   "source": [
    "fig.show()"
   ]
  }
 ],
 "metadata": {
  "colab": {
   "collapsed_sections": [],
   "name": "seriesrating_visuals.ipynb",
   "provenance": []
  },
  "kernelspec": {
   "display_name": "Python 3",
   "language": "python",
   "name": "python3"
  },
  "language_info": {
   "codemirror_mode": {
    "name": "ipython",
    "version": 3
   },
   "file_extension": ".py",
   "mimetype": "text/x-python",
   "name": "python",
   "nbconvert_exporter": "python",
   "pygments_lexer": "ipython3",
   "version": "3.8.8"
  }
 },
 "nbformat": 4,
 "nbformat_minor": 1
}
